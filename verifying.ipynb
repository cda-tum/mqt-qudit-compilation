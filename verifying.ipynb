{
 "cells": [
  {
   "cell_type": "code",
   "execution_count": 274,
   "metadata": {},
   "outputs": [],
   "source": [
    "\n",
    "#PUT THIS FILE IN THE SAME FOLDER OF THE PROJECT DOWNLOADED\n",
    "\n",
    "\n",
    "from src.circuit.Rotations import *\n",
    "from src.evaluation.Pauli import H, S, X\n",
    "from src.utils.r_utils import matmul\n",
    "import numpy as np"
   ]
  },
  {
   "cell_type": "code",
   "execution_count": 275,
   "metadata": {},
   "outputs": [
    {
     "name": "stdout",
     "output_type": "stream",
     "text": [
      "[[0. 1. 0.]\n",
      " [0. 0. 1.]\n",
      " [1. 0. 0.]]\n",
      "[[0. 0. 1.]\n",
      " [0. 1. 0.]\n",
      " [1. 0. 0.]]\n",
      "[[0. 0. 1.]\n",
      " [1. 0. 0.]\n",
      " [0. 1. 0.]]\n"
     ]
    }
   ],
   "source": [
    "def get_perm_matrix(dimension, nodes, mapping):\n",
    "    perm = np.zeros((dimension, dimension))\n",
    "\n",
    "    for i in range(dimension):\n",
    "        a = [0 for i in range(dimension)]\n",
    "        b = [0 for i in range(dimension)]\n",
    "        a[nodes[i]] = 1\n",
    "        b[mapping[i]] = 1\n",
    "        narr = np.array(a)\n",
    "        marr = np.array(b)\n",
    "        perm = perm + np.outer(marr, narr)\n",
    "\n",
    "    return perm\n",
    "\n",
    "fix = get_perm_matrix(3, [0,1,2], [2, 0, 1])\n",
    "print(fix)\n",
    "fix2 = get_perm_matrix(3, [0,1,2], [2, 1, 0])\n",
    "print(fix2)\n",
    "\n",
    "print(matmul(fix,fix))"
   ]
  },
  {
   "cell_type": "code",
   "execution_count": 278,
   "metadata": {},
   "outputs": [],
   "source": [
    "dimension = 3\n",
    "\n",
    "H1 = H( dimension )\n",
    "X1= X( dimension )\n",
    "S1 = S( dimension)\n",
    "HS = matmul(H1.matrix, S1.matrix) \n",
    "\n"
   ]
  },
  {
   "cell_type": "code",
   "execution_count": 279,
   "metadata": {},
   "outputs": [
    {
     "name": "stdout",
     "output_type": "stream",
     "text": [
      "[[ 0.57735027+0.j   0.57735027+0.j   0.57735027+0.j ]\n",
      " [ 0.57735027+0.j  -0.28867513+0.5j -0.28867513-0.5j]\n",
      " [ 0.57735027+0.j  -0.28867513-0.5j -0.28867513+0.5j]]\n"
     ]
    },
    {
     "data": {
      "text/plain": [
       "array([[ 0.57735027+0.j , -0.28867513+0.5j, -0.28867513-0.5j],\n",
       "       [ 0.57735027+0.j , -0.28867513-0.5j, -0.28867513+0.5j],\n",
       "       [ 0.57735027+0.j ,  0.57735027+0.j ,  0.57735027+0.j ]])"
      ]
     },
     "execution_count": 279,
     "metadata": {},
     "output_type": "execute_result"
    }
   ],
   "source": [
    "print(H1.matrix)\n",
    "\n",
    "match_graph_state = get_perm_matrix(3, [0,1,2], [2, 0, 1])\n",
    "\n",
    "H1n = matmul( match_graph_state , H1.matrix)\n",
    "H1n"
   ]
  },
  {
   "cell_type": "code",
   "execution_count": null,
   "metadata": {},
   "outputs": [],
   "source": []
  },
  {
   "cell_type": "code",
   "execution_count": null,
   "metadata": {},
   "outputs": [],
   "source": []
  },
  {
   "cell_type": "code",
   "execution_count": 298,
   "metadata": {},
   "outputs": [
    {
     "data": {
      "text/plain": [
       "array([[ 0.58+0.j , -0.29-0.5j, -0.29+0.5j],\n",
       "       [-0.58+0.j ,  0.29-0.5j,  0.29+0.5j],\n",
       "       [ 0.58+0.j ,  0.58+0.j ,  0.58+0.j ]])"
      ]
     },
     "execution_count": 298,
     "metadata": {},
     "output_type": "execute_result"
    }
   ],
   "source": [
    "t1 = matmul(R( np.pi, -np.pi/2, 0, 1 ,dimension).matrix.round(4), H1n)#R12->10\n",
    "t1.round(2)"
   ]
  },
  {
   "cell_type": "code",
   "execution_count": 304,
   "metadata": {},
   "outputs": [
    {
     "data": {
      "text/plain": [
       "array([[ 0.58+0.j  ,  0.58+0.j  ,  0.58+0.j  ],\n",
       "       [ 0.  +0.j  , -0.  -0.71j,  0.  +0.71j],\n",
       "       [ 0.82+0.j  , -0.41+0.j  , -0.41+0.j  ]])"
      ]
     },
     "execution_count": 304,
     "metadata": {},
     "output_type": "execute_result"
    }
   ],
   "source": [
    "match_graph_state = get_perm_matrix(3, [0,1,2], [2, 1, 0])\n",
    "\n",
    "t1= matmul(match_graph_state, t1)\n",
    "\n",
    "t2 = matmul(R( -np.pi/2, np.pi/2 + np.pi , 0, 1 ,dimension).matrix.round(4), t1 )#R12->10\n",
    "\n",
    "t2= matmul(match_graph_state.T, t2)\n",
    "\n",
    "t2.round(2)"
   ]
  },
  {
   "cell_type": "code",
   "execution_count": 305,
   "metadata": {},
   "outputs": [
    {
     "data": {
      "text/plain": [
       "array([[ 0.  +0.j  ,  0.  +0.71j, -0.  -0.71j],\n",
       "       [ 0.58+0.j  ,  0.58+0.j  ,  0.58+0.j  ],\n",
       "       [ 0.82+0.j  , -0.41+0.j  , -0.41+0.j  ]])"
      ]
     },
     "execution_count": 305,
     "metadata": {},
     "output_type": "execute_result"
    }
   ],
   "source": [
    "\n",
    "t3 = matmul(R( np.pi, -np.pi/2+np.pi, 0, 1 ,dimension).matrix.round(4), t2 )#R12->10\n",
    "t3.round(2)\n"
   ]
  },
  {
   "cell_type": "code",
   "execution_count": 307,
   "metadata": {},
   "outputs": [
    {
     "name": "stdout",
     "output_type": "stream",
     "text": [
      "[[ 0.33+0.j   -0.67+0.j   -0.67+0.j  ]\n",
      " [ 0.94+0.j    0.24+0.j    0.24+0.j  ]\n",
      " [ 0.  +0.j    0.  +0.71j -0.  -0.71j]]\n"
     ]
    }
   ],
   "source": [
    "match_graph_state = get_perm_matrix(3, [0,1,2], [2, 0, 1])\n",
    "\n",
    "t3= matmul(match_graph_state, t3)\n",
    "\n",
    "t4 = matmul(R( -1.23 , np.pi/2+2*np.pi , 0, 2 ,dimension).matrix.round(4), t3 )#R12->10\n",
    "\n",
    "t4= matmul(match_graph_state.T, t4)\n",
    "\n",
    "print(t4.round(2))"
   ]
  },
  {
   "cell_type": "code",
   "execution_count": 293,
   "metadata": {},
   "outputs": [
    {
     "data": {
      "text/plain": [
       "array([[ 0.24-0.67j,  0.38-0.32j,  0.09+0.49j],\n",
       "       [ 0.  +0.j  ,  0.61+0.35j,  0.61-0.35j],\n",
       "       [ 0.67-0.24j, -0.49-0.09j,  0.32-0.38j]])"
      ]
     },
     "execution_count": 293,
     "metadata": {},
     "output_type": "execute_result"
    }
   ],
   "source": [
    "match_graph_state = get_perm_matrix(3, [0,1,2], [2, 0, 1])\n",
    "\n",
    "t4= matmul(match_graph_state.T, t4)\n",
    "\n",
    "t5 = matmul( R( np.pi/2, -4*np.pi, 1, 2 ,dimension).matrix.round(4), t4 )#R12->10\n",
    "\n",
    "t5= matmul(match_graph_state.T, t5)\n",
    "t5.round(2)\n"
   ]
  },
  {
   "cell_type": "code",
   "execution_count": 109,
   "metadata": {},
   "outputs": [
    {
     "data": {
      "text/plain": [
       "array([[-0.25-0.43j, -0.5 -0.j  , -0.36+0.61j],\n",
       "       [ 0.25-0.43j, -0.25-0.43j,  0.71+0.j  ],\n",
       "       [-0.35+0.61j, -0.35-0.61j,  0.  +0.j  ]])"
      ]
     },
     "execution_count": 109,
     "metadata": {},
     "output_type": "execute_result"
    }
   ],
   "source": [
    "t6 = matmul( Rz( 2.6100, 0, dimension).matrix.round(4), t5 )#R12->10\n",
    "t6.round(2)\n",
    "\n",
    "####### add Rz"
   ]
  },
  {
   "cell_type": "code",
   "execution_count": null,
   "metadata": {},
   "outputs": [],
   "source": []
  },
  {
   "cell_type": "code",
   "execution_count": 602,
   "metadata": {},
   "outputs": [
    {
     "data": {
      "text/plain": [
       "array([[-0.86-0.51j, -0.  +0.j  ,  0.  -0.j  ],\n",
       "       [-0.  -0.j  ,  1.  +0.j  , -0.  +0.j  ],\n",
       "       [ 0.  -0.j  ,  0.  +0.j  , -0.87+0.5j ]])"
      ]
     },
     "execution_count": 602,
     "metadata": {},
     "output_type": "execute_result"
    }
   ],
   "source": [
    "t7 = matmul( Rz( 2.09 , 1, dimension).matrix.round(4), t6 )#R12->10\n",
    "t7.round(2)"
   ]
  },
  {
   "cell_type": "code",
   "execution_count": 622,
   "metadata": {},
   "outputs": [
    {
     "name": "stdout",
     "output_type": "stream",
     "text": [
      "[[ 0.577+0.j   0.577+0.j   0.577+0.j ]\n",
      " [ 0.577+0.j  -0.289+0.5j -0.289-0.5j]\n",
      " [ 0.577+0.j  -0.289-0.5j -0.289+0.5j]]\n",
      "\n",
      "[[ 0.577-0.j  -0.289+0.5j -0.289-0.5j]\n",
      " [-0.577-0.j  -0.577-0.j  -0.577-0.j ]\n",
      " [ 0.577+0.j  -0.289-0.5j -0.289+0.5j]]\n",
      "\n"
     ]
    },
    {
     "data": {
      "text/plain": [
       "array([[ 0.5774-0.j , -0.2887+0.5j, -0.2887-0.5j],\n",
       "       [ 0.5774+0.j ,  0.5774+0.j ,  0.5774+0.j ],\n",
       "       [ 0.5774+0.j , -0.2887-0.5j, -0.2887+0.5j]])"
      ]
     },
     "execution_count": 622,
     "metadata": {},
     "output_type": "execute_result"
    }
   ],
   "source": [
    "f = H1.matrix\n",
    "print(f.round(3))\n",
    "print()\n",
    "f = matmul( R( np.pi, -np.pi/2, 0, 1,dimension).matrix, f)\n",
    "\n",
    "print(f.round(3))\n",
    "print()\n",
    "\n",
    "f = matmul(Rz(np.pi,1,dimension).matrix, f)\n",
    "f.round(4)"
   ]
  },
  {
   "cell_type": "code",
   "execution_count": 54,
   "metadata": {},
   "outputs": [],
   "source": [
    "#############################################"
   ]
  },
  {
   "cell_type": "code",
   "execution_count": 608,
   "metadata": {},
   "outputs": [
    {
     "name": "stdout",
     "output_type": "stream",
     "text": [
      "[[ 0.+0.j  1.-0.j  0.+0.j]\n",
      " [-1.-0.j  0.+0.j  0.+0.j]\n",
      " [ 0.+0.j  0.+0.j  1.+0.j]]\n",
      "\n",
      "[[ 0.   +0.j  1.   -0.j  0.   +0.j]\n",
      " [-0.707-0.j  0.   +0.j -0.707-0.j]\n",
      " [-0.707+0.j  0.   -0.j  0.707+0.j]]\n",
      "\n",
      "[[-0.707+0.j  0.   -0.j -0.707-0.j]\n",
      " [-0.   -0.j -1.   +0.j -0.   -0.j]\n",
      " [-0.707+0.j  0.   -0.j  0.707+0.j]]\n",
      "-----------\n",
      "[[-0.707+0.j  0.   -0.j -0.707-0.j]\n",
      " [ 0.408-0.j -0.817+0.j -0.408+0.j]\n",
      " [-0.578+0.j -0.577-0.j  0.578-0.j]]\n",
      "\n",
      "[[-0.5  -0.288j  0.   +0.578j -0.5  +0.288j]\n",
      " [ 0.288+0.5j   -0.578-0.j    -0.288+0.5j  ]\n",
      " [-0.578+0.j    -0.577-0.j     0.578-0.j   ]]\n",
      "\n"
     ]
    },
    {
     "data": {
      "text/plain": [
       "array([[-0.5  -0.288j,  0.   +0.578j, -0.5  +0.288j],\n",
       "       [ 0.288+0.5j  , -0.578-0.j   , -0.288+0.5j  ],\n",
       "       [-0.578+0.j   , -0.577-0.j   ,  0.578-0.j   ]])"
      ]
     },
     "execution_count": 608,
     "metadata": {},
     "output_type": "execute_result"
    }
   ],
   "source": [
    "f = np.identity(3, dtype='complex')\n",
    "#f = np.dot(np.identity(3, dtype='complex'), Rz( 0.3, 1, 3).matrix )\n",
    "\n",
    "\n",
    "f = matmul(R( np.pi, -np.pi/2,             0, 1,dimension).matrix,  f)\n",
    "print(f.round(3))\n",
    "print()\n",
    "f = matmul(R(-np.pi/2 , np.pi/2 + np.pi ,  1, 2,dimension).matrix, f)\n",
    "print(f.round(3))\n",
    "print()\n",
    "f = matmul(R( np.pi, np.pi/2 - np.pi,     0, 1,dimension).matrix,  f)\n",
    "print(f.round(3))\n",
    "print(\"-----------\")\n",
    "f = matmul(R( -1.23,   -np.pi/2 - 2*np.pi ,  1, 2,dimension).matrix, f)\n",
    "print(f.round(3))\n",
    "print()\n",
    "f = matmul(R( np.pi/2, -2*np.pi - 2*np.pi ,  0, 1,dimension).matrix, f)\n",
    "print(f.round(3))\n",
    "print()\n",
    "\n",
    "#f = np.dot(Rz( 2.61, 0, 3).matrix, f)\n",
    "#f = np.dot(Rz( 2.09 , 1, 3).matrix,f)\n",
    "#f = np.dot(Rz( -np.pi, 2, 3).matrix, f)\n",
    "\n",
    "f.round(3)"
   ]
  },
  {
   "cell_type": "code",
   "execution_count": 534,
   "metadata": {},
   "outputs": [
    {
     "data": {
      "text/plain": [
       "array([[ 0.817+0.j,  0.   +0.j,  0.577+0.j],\n",
       "       [ 0.   +0.j,  1.   +0.j,  0.   +0.j],\n",
       "       [-0.577+0.j,  0.   +0.j,  0.817+0.j]])"
      ]
     },
     "execution_count": 534,
     "metadata": {},
     "output_type": "execute_result"
    }
   ],
   "source": [
    "R( -1.23,np.pi/2 , 0, 2, dimension).matrix.round(3)"
   ]
  },
  {
   "cell_type": "code",
   "execution_count": null,
   "metadata": {},
   "outputs": [],
   "source": []
  },
  {
   "cell_type": "code",
   "execution_count": 24,
   "metadata": {},
   "outputs": [
    {
     "data": {
      "text/plain": [
       "array([[0.+0.j, 0.-1.j, 0.+0.j],\n",
       "       [0.-1.j, 0.+0.j, 0.+0.j],\n",
       "       [0.+0.j, 0.+0.j, 1.+0.j]])"
      ]
     },
     "execution_count": 24,
     "metadata": {},
     "output_type": "execute_result"
    }
   ],
   "source": [
    "R( 3.14, 0, 0, 1 ,dimension).matrix.round(2)"
   ]
  },
  {
   "cell_type": "code",
   "execution_count": 30,
   "metadata": {},
   "outputs": [
    {
     "data": {
      "text/plain": [
       "array([[ 0.+0.j,  0.+0.j,  1.+0.j],\n",
       "       [ 0.+0.j, -1.+0.j,  0.+0.j],\n",
       "       [ 1.+0.j,  0.+0.j,  0.+0.j]])"
      ]
     },
     "execution_count": 30,
     "metadata": {},
     "output_type": "execute_result"
    }
   ],
   "source": [
    "matmul(f, X1.matrix)"
   ]
  },
  {
   "cell_type": "code",
   "execution_count": 31,
   "metadata": {},
   "outputs": [
    {
     "data": {
      "text/plain": [
       "array([[ 0.+0.j,  0.+0.j, -1.-0.j],\n",
       "       [ 0.+0.j, -1.+0.j,  0.+0.j],\n",
       "       [ 1.+0.j,  0.+0.j,  0.+0.j]])"
      ]
     },
     "execution_count": 31,
     "metadata": {},
     "output_type": "execute_result"
    }
   ],
   "source": [
    "matmul(Rz( 3.14, 0 , dimension).matrix, matmul(f, X1.matrix)).round(2)"
   ]
  },
  {
   "cell_type": "code",
   "execution_count": 42,
   "metadata": {},
   "outputs": [
    {
     "data": {
      "text/plain": [
       "array([[ 0.82+0.j  ,  0.54-0.19j,  0.  +0.j  ],\n",
       "       [-0.54-0.19j,  0.82+0.j  ,  0.  +0.j  ],\n",
       "       [ 0.  +0.j  ,  0.  +0.j  ,  1.  +0.j  ]])"
      ]
     },
     "execution_count": 42,
     "metadata": {},
     "output_type": "execute_result"
    }
   ],
   "source": [
    "R( 1.23, -1.23, 0, 1,dimension).matrix.round(2)"
   ]
  },
  {
   "cell_type": "code",
   "execution_count": 92,
   "metadata": {},
   "outputs": [
    {
     "name": "stdout",
     "output_type": "stream",
     "text": [
      "[[ 1.  +0.j   -0.  -0.j    0.  +0.j  ]\n",
      " [ 0.  +0.j    0.82+0.j    0.54-0.19j]\n",
      " [-0.  +0.j   -0.54-0.19j  0.82-0.j  ]]\n",
      "\n",
      "[[-1.  +0.j   -0.  -0.j    0.  +0.j  ]\n",
      " [ 0.  +0.j    0.82+0.j    0.54-0.19j]\n",
      " [-0.  +0.j    0.54+0.19j -0.82-0.j  ]]\n",
      "\n",
      "\n",
      "[[-1.  +0.j    0.  +0.j    0.  +0.j  ]\n",
      " [ 0.  +0.j    0.82+0.j    0.54-0.19j]\n",
      " [ 0.  +0.j   -0.54-0.19j  0.82+0.j  ]]\n",
      "\n",
      "[[ 1.  +0.j    0.  +0.j    0.  +0.j  ]\n",
      " [ 0.  +0.j    0.82+0.j    0.54-0.19j]\n",
      " [ 0.  +0.j   -0.54-0.19j  0.82+0.j  ]]\n"
     ]
    }
   ],
   "source": [
    "\"\"\"\n",
    "print(R( 3.14,-1.57, 0, 2,dimension).matrix.round(2))\n",
    "print()\n",
    "print(R( 1.23, -1.23, 0, 1,dimension).matrix.round(2))\n",
    "print()\n",
    "print(matmul( R( 1.23, -1.23, 0, 1,dimension).matrix.round(2),R(3.14, -1.57, 0, 2,dimension).matrix).round(2))\n",
    "print()\n",
    "print(matmul( R( 1.23, 1.23, 0, 1,dimension).matrix.round(2),R(3.14, -1.57, 0, 2,dimension).matrix).round(2))\n",
    "print()\n",
    "\"\"\"\n",
    "print(matmul(R( 3.14, 1.57, 0, 2 ,dimension).matrix, matmul(R( 1.23, 1.23, 0, 1,dimension).matrix, R( 3.14, -1.57, 0, 2,dimension).matrix.round(2))).round(2))\n",
    "print()\n",
    "j = matmul(R( 3.14, -1.57, 0, 2 ,dimension).matrix, matmul(R( 1.23, 1.23, 0, 1,dimension).matrix, R( 3.14, -1.57, 0, 2,dimension).matrix.round(2))).round(2)\n",
    "print(j)\n",
    "####################\n",
    "print()\n",
    "#print(matmul(R( 3.14, 1.57, 0, 2 ,dimension).matrix, j).round(2))\n",
    "#print(j)\n",
    "################################\n",
    "print()\n",
    "\n",
    "k = matmul(Rz( 3.14, 2 , dimension).matrix, j).round(2)\n",
    "\n",
    "print(k)\n",
    "print()\n",
    "print(matmul(Rz( 3.14, 0 , dimension).matrix, k).round(2))\n"
   ]
  },
  {
   "cell_type": "code",
   "execution_count": 3,
   "metadata": {},
   "outputs": [],
   "source": [
    "#\n",
    "#  Imagine a graph like this (L=logical, P=physical)\n",
    "# (L0/P2) <-> (L2/P0) <-> (L1/P1)\n",
    "#\n",
    "\n",
    "\n",
    "R0 = R( 1.57, -1.57, 0, 1 ,dimension) #R12->10\n",
    "\n",
    "R1 = R(-np.pi, -1.57, 0, 1 ,dimension) #PI PULSE\n",
    "\n",
    "R2 = R( 1.91, -1.57, 0, 2 ,dimension) #ROUTED R01\n",
    "\n",
    "R1dag = R(np.pi, -1.57, 0, 1 ,dimension) #PI PULSE DAG\n",
    "\n",
    "R3 = R( 1.57, 0, 0, 1 ,dimension) #R12->10\n",
    "\n",
    "##################################\n",
    "\n",
    "Rz0 = Rz(-1.0471975511, 0 , dimension)# RZ OF ENTRY i=1\n",
    "\n",
    "Rz1 = Rz(1.5707, 1, dimension) # RZ OF ENTRY i=2\n"
   ]
  },
  {
   "cell_type": "code",
   "execution_count": 4,
   "metadata": {},
   "outputs": [
    {
     "data": {
      "text/plain": [
       "array([[ 0.71+0.j,  0.71+0.j,  0.  +0.j],\n",
       "       [-0.71+0.j,  0.71+0.j,  0.  +0.j],\n",
       "       [ 0.  +0.j,  0.  +0.j,  1.  +0.j]])"
      ]
     },
     "execution_count": 4,
     "metadata": {},
     "output_type": "execute_result"
    }
   ],
   "source": [
    "R0.matrix.round(2)"
   ]
  },
  {
   "cell_type": "code",
   "execution_count": 5,
   "metadata": {},
   "outputs": [
    {
     "data": {
      "text/plain": [
       "array([[ 0.       +0.j       , -0.9999997-0.0007963j,\n",
       "         0.       +0.j       ],\n",
       "       [ 0.9999997-0.0007963j,  0.       +0.j       ,\n",
       "         0.       +0.j       ],\n",
       "       [ 0.       +0.j       ,  0.       +0.j       ,\n",
       "         1.       +0.j       ]])"
      ]
     },
     "execution_count": 5,
     "metadata": {},
     "output_type": "execute_result"
    }
   ],
   "source": [
    "R1.matrix.round(7)"
   ]
  },
  {
   "cell_type": "code",
   "execution_count": 6,
   "metadata": {},
   "outputs": [
    {
     "data": {
      "text/plain": [
       "array([[ 0.5776088+0.j       ,  0.       +0.j       ,\n",
       "         0.8163135+0.0006501j],\n",
       "       [ 0.       +0.j       ,  1.       +0.j       ,\n",
       "         0.       +0.j       ],\n",
       "       [-0.8163135+0.0006501j,  0.       +0.j       ,\n",
       "         0.5776088+0.j       ]])"
      ]
     },
     "execution_count": 6,
     "metadata": {},
     "output_type": "execute_result"
    }
   ],
   "source": [
    "R2.matrix.round(7)"
   ]
  },
  {
   "cell_type": "code",
   "execution_count": 7,
   "metadata": {},
   "outputs": [
    {
     "data": {
      "text/plain": [
       "array([[ 0.       +0.j       ,  0.9999997+0.0007963j,\n",
       "         0.       +0.j       ],\n",
       "       [-0.9999997+0.0007963j,  0.       +0.j       ,\n",
       "         0.       +0.j       ],\n",
       "       [ 0.       +0.j       ,  0.       +0.j       ,\n",
       "         1.       +0.j       ]])"
      ]
     },
     "execution_count": 7,
     "metadata": {},
     "output_type": "execute_result"
    }
   ],
   "source": [
    "R1dag.matrix.round(7)"
   ]
  },
  {
   "cell_type": "code",
   "execution_count": 8,
   "metadata": {},
   "outputs": [
    {
     "data": {
      "text/plain": [
       "array([[0.7073883+0.j       , 0.       +0.7068252j, 0.       +0.j       ],\n",
       "       [0.       +0.7068252j, 0.7073883+0.j       , 0.       +0.j       ],\n",
       "       [0.       +0.j       , 0.       +0.j       , 1.       +0.j       ]])"
      ]
     },
     "execution_count": 8,
     "metadata": {},
     "output_type": "execute_result"
    }
   ],
   "source": [
    "R3.matrix.round(7)"
   ]
  },
  {
   "cell_type": "code",
   "execution_count": 9,
   "metadata": {},
   "outputs": [
    {
     "data": {
      "text/plain": [
       "array([[0.5+0.8660254j, 0. +0.j       , 0. +0.j       ],\n",
       "       [0. +0.j       , 1. +0.j       , 0. +0.j       ],\n",
       "       [0. +0.j       , 0. +0.j       , 1. +0.j       ]])"
      ]
     },
     "execution_count": 9,
     "metadata": {},
     "output_type": "execute_result"
    }
   ],
   "source": [
    "Rz0.matrix.round(7)"
   ]
  },
  {
   "cell_type": "code",
   "execution_count": 10,
   "metadata": {},
   "outputs": [
    {
     "data": {
      "text/plain": [
       "array([[1.00e+00+0.j, 0.00e+00+0.j, 0.00e+00+0.j],\n",
       "       [0.00e+00+0.j, 9.63e-05-1.j, 0.00e+00+0.j],\n",
       "       [0.00e+00+0.j, 0.00e+00+0.j, 1.00e+00+0.j]])"
      ]
     },
     "execution_count": 10,
     "metadata": {},
     "output_type": "execute_result"
    }
   ],
   "source": [
    "Rz1.matrix.round(7)"
   ]
  },
  {
   "cell_type": "markdown",
   "metadata": {},
   "source": [
    "### reconstruct"
   ]
  },
  {
   "cell_type": "code",
   "execution_count": 11,
   "metadata": {},
   "outputs": [
    {
     "name": "stdout",
     "output_type": "stream",
     "text": [
      "[[ 0.57735+0.j  -0.28868+0.5j  0.57735+0.j ]\n",
      " [ 0.57735+0.j  -0.28868-0.5j -0.28868-0.5j]\n",
      " [ 0.57735+0.j   0.57735-0.j  -0.28868+0.5j]]\n"
     ]
    },
    {
     "data": {
      "text/plain": [
       "array([[ 0.82+0.j  , -0.41+0.j  ,  0.2 -0.35j],\n",
       "       [ 0.  +0.j  , -0.  -0.71j, -0.61-0.35j],\n",
       "       [ 0.58+0.j  ,  0.58-0.j  , -0.29+0.5j ]])"
      ]
     },
     "execution_count": 11,
     "metadata": {},
     "output_type": "execute_result"
    }
   ],
   "source": [
    "print(target.round(5))\n",
    "ph = matmul(R0.matrix, target).round(2)\n",
    "ph"
   ]
  },
  {
   "cell_type": "code",
   "execution_count": 12,
   "metadata": {},
   "outputs": [
    {
     "data": {
      "text/plain": [
       "array([[ 0.  +0.j  , -0.  +0.71j,  0.61+0.35j],\n",
       "       [ 0.82-0.j  , -0.41+0.j  ,  0.2 -0.35j],\n",
       "       [ 0.58+0.j  ,  0.58+0.j  , -0.29+0.5j ]])"
      ]
     },
     "execution_count": 12,
     "metadata": {},
     "output_type": "execute_result"
    }
   ],
   "source": [
    "ph = matmul(R1.matrix, ph).round(2)\n",
    "ph"
   ]
  },
  {
   "cell_type": "code",
   "execution_count": 13,
   "metadata": {},
   "outputs": [
    {
     "data": {
      "text/plain": [
       "array([[ 0.47+0.j  ,  0.47+0.41j,  0.12+0.61j],\n",
       "       [ 0.82+0.j  , -0.41+0.j  ,  0.2 -0.35j],\n",
       "       [ 0.34+0.j  ,  0.33-0.58j, -0.67+0.j  ]])"
      ]
     },
     "execution_count": 13,
     "metadata": {},
     "output_type": "execute_result"
    }
   ],
   "source": [
    "ph = matmul(R2.matrix, ph).round(2)\n",
    "ph"
   ]
  },
  {
   "cell_type": "code",
   "execution_count": 14,
   "metadata": {},
   "outputs": [
    {
     "data": {
      "text/plain": [
       "array([[ 0.82+0.j  , -0.41-0.j  ,  0.2 -0.35j],\n",
       "       [-0.47+0.j  , -0.47-0.41j, -0.12-0.61j],\n",
       "       [ 0.34+0.j  ,  0.33-0.58j, -0.67+0.j  ]])"
      ]
     },
     "execution_count": 14,
     "metadata": {},
     "output_type": "execute_result"
    }
   ],
   "source": [
    "ph = matmul(R1dag.matrix, ph).round(2)\n",
    "ph"
   ]
  },
  {
   "cell_type": "code",
   "execution_count": 15,
   "metadata": {},
   "outputs": [
    {
     "data": {
      "text/plain": [
       "array([[ 0.58-0.33j, -0.  -0.33j,  0.57-0.33j],\n",
       "       [-0.33+0.58j, -0.33-0.58j,  0.16-0.29j],\n",
       "       [ 0.34+0.j  ,  0.33-0.58j, -0.67+0.j  ]])"
      ]
     },
     "execution_count": 15,
     "metadata": {},
     "output_type": "execute_result"
    }
   ],
   "source": [
    "ph = matmul(R3.matrix, ph).round(2)\n",
    "ph"
   ]
  },
  {
   "cell_type": "code",
   "execution_count": 16,
   "metadata": {},
   "outputs": [
    {
     "data": {
      "text/plain": [
       "array([[ 0.5758+0.3373j,  0.2858-0.165j ,  0.5708+0.3286j],\n",
       "       [-0.33  +0.58j  , -0.33  -0.58j  ,  0.16  -0.29j  ],\n",
       "       [ 0.34  +0.j    ,  0.33  -0.58j  , -0.67  +0.j    ]])"
      ]
     },
     "execution_count": 16,
     "metadata": {},
     "output_type": "execute_result"
    }
   ],
   "source": [
    "ph = matmul(Rz0.matrix, ph).round(4)\n",
    "ph"
   ]
  },
  {
   "cell_type": "code",
   "execution_count": 17,
   "metadata": {},
   "outputs": [
    {
     "name": "stdout",
     "output_type": "stream",
     "text": [
      "[[ 0.57735+0.j  -0.28868+0.5j  0.57735+0.j ]\n",
      " [ 0.57735+0.j  -0.28868-0.5j -0.28868-0.5j]\n",
      " [ 0.57735+0.j   0.57735-0.j  -0.28868+0.5j]]\n"
     ]
    }
   ],
   "source": [
    "print(HS.matrix.round(5))"
   ]
  },
  {
   "cell_type": "code",
   "execution_count": null,
   "metadata": {},
   "outputs": [],
   "source": []
  },
  {
   "cell_type": "code",
   "execution_count": 24,
   "metadata": {},
   "outputs": [],
   "source": [
    "nodes=[0,1,2]\n",
    "mapping = [2,1,0]"
   ]
  },
  {
   "cell_type": "code",
   "execution_count": 27,
   "metadata": {},
   "outputs": [
    {
     "name": "stdout",
     "output_type": "stream",
     "text": [
      "[[0. 0. 0.]\n",
      " [0. 0. 0.]\n",
      " [1. 0. 0.]]\n",
      "[[0. 0. 0.]\n",
      " [0. 1. 0.]\n",
      " [1. 0. 0.]]\n",
      "[[0. 0. 1.]\n",
      " [0. 1. 0.]\n",
      " [1. 0. 0.]]\n"
     ]
    }
   ],
   "source": [
    "\n",
    "perm = np.zeros((3, 3))\n",
    "\n",
    "for i in range(3):\n",
    "    a = [0 for i in range(3)]\n",
    "    b = [0 for i in range(3)]\n",
    "    a[nodes[i]] = 1\n",
    "    b[mapping[i]] = 1\n",
    "    narr = np.array(a)\n",
    "    marr = np.array(b)\n",
    "    perm = perm + np.outer(marr , narr)\n",
    "    print(perm)\n"
   ]
  },
  {
   "cell_type": "code",
   "execution_count": 28,
   "metadata": {},
   "outputs": [
    {
     "data": {
      "text/plain": [
       "array([[0., 0., 1.],\n",
       "       [0., 1., 0.],\n",
       "       [1., 0., 0.]])"
      ]
     },
     "execution_count": 28,
     "metadata": {},
     "output_type": "execute_result"
    }
   ],
   "source": [
    "perm"
   ]
  },
  {
   "cell_type": "code",
   "execution_count": null,
   "metadata": {},
   "outputs": [],
   "source": []
  }
 ],
 "metadata": {
  "kernelspec": {
   "display_name": "Python 3",
   "language": "python",
   "name": "python3"
  },
  "language_info": {
   "codemirror_mode": {
    "name": "ipython",
    "version": 3
   },
   "file_extension": ".py",
   "mimetype": "text/x-python",
   "name": "python",
   "nbconvert_exporter": "python",
   "pygments_lexer": "ipython3",
   "version": "3.8.10"
  }
 },
 "nbformat": 4,
 "nbformat_minor": 4
}
