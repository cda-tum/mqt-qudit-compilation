{
 "cells": [
  {
   "cell_type": "code",
   "execution_count": 1,
   "metadata": {},
   "outputs": [],
   "source": [
    "\n",
    "#PUT THIS FILE IN THE SAME FOLDER OF THE PROJECT DOWNLOADED\n",
    "\n",
    "\n",
    "from src.circuit.Rotations import *\n",
    "from src.evaluation.Pauli import H, S, X\n",
    "from src.utils.r_utils import matmul\n",
    "import numpy as np"
   ]
  },
  {
   "cell_type": "code",
   "execution_count": 2,
   "metadata": {},
   "outputs": [
    {
     "name": "stdout",
     "output_type": "stream",
     "text": [
      "[[0. 1. 0.]\n",
      " [0. 0. 1.]\n",
      " [1. 0. 0.]]\n",
      "[[0. 0. 1.]\n",
      " [0. 1. 0.]\n",
      " [1. 0. 0.]]\n",
      "[[0. 0. 1.]\n",
      " [1. 0. 0.]\n",
      " [0. 1. 0.]]\n"
     ]
    }
   ],
   "source": [
    "def get_perm_matrix(dimension, nodes, mapping):\n",
    "    perm = np.zeros((dimension, dimension))\n",
    "\n",
    "    for i in range(dimension):\n",
    "        a = [0 for i in range(dimension)]\n",
    "        b = [0 for i in range(dimension)]\n",
    "        a[nodes[i]] = 1\n",
    "        b[mapping[i]] = 1\n",
    "        narr = np.array(a)\n",
    "        marr = np.array(b)\n",
    "        perm = perm + np.outer(marr, narr)\n",
    "\n",
    "    return perm\n",
    "\n",
    "fix = get_perm_matrix(3, [0,1,2], [2, 0, 1])\n",
    "print(fix)\n",
    "fix2 = get_perm_matrix(3, [0,1,2], [2, 1, 0])\n",
    "print(fix2)\n",
    "\n",
    "print(matmul(fix,fix))"
   ]
  },
  {
   "cell_type": "code",
   "execution_count": 3,
   "metadata": {},
   "outputs": [],
   "source": [
    "dimension = 3\n",
    "\n",
    "H1 = H( dimension )\n",
    "X1= X( dimension )\n",
    "S1 = S( dimension)\n",
    "HS = matmul(H1.matrix, S1.matrix) \n",
    "\n"
   ]
  },
  {
   "cell_type": "code",
   "execution_count": 4,
   "metadata": {},
   "outputs": [
    {
     "name": "stdout",
     "output_type": "stream",
     "text": [
      "[[ 0.57735027+0.j   0.57735027+0.j   0.57735027+0.j ]\n",
      " [ 0.57735027+0.j  -0.28867513+0.5j -0.28867513-0.5j]\n",
      " [ 0.57735027+0.j  -0.28867513-0.5j -0.28867513+0.5j]]\n"
     ]
    },
    {
     "data": {
      "text/plain": [
       "array([[ 0.57735027+0.j , -0.28867513+0.5j, -0.28867513-0.5j],\n",
       "       [ 0.57735027+0.j , -0.28867513-0.5j, -0.28867513+0.5j],\n",
       "       [ 0.57735027+0.j ,  0.57735027+0.j ,  0.57735027+0.j ]])"
      ]
     },
     "execution_count": 4,
     "metadata": {},
     "output_type": "execute_result"
    }
   ],
   "source": [
    "print(H1.matrix)\n",
    "\n",
    "match_graph_state = get_perm_matrix(3, [0,1,2], [2, 0, 1])\n",
    "\n",
    "H1n = matmul( match_graph_state , H1.matrix)\n",
    "H1n"
   ]
  },
  {
   "cell_type": "code",
   "execution_count": 5,
   "metadata": {},
   "outputs": [
    {
     "data": {
      "text/plain": [
       "array([[ 0.58+0.j , -0.29-0.5j, -0.29+0.5j],\n",
       "       [-0.58+0.j ,  0.29-0.5j,  0.29+0.5j],\n",
       "       [ 0.58+0.j ,  0.58+0.j ,  0.58+0.j ]])"
      ]
     },
     "execution_count": 5,
     "metadata": {},
     "output_type": "execute_result"
    }
   ],
   "source": [
    "t1 = matmul(R( np.pi, -np.pi/2, 0, 1 ,dimension).matrix.round(4), H1n) \n",
    "t1.round(2)"
   ]
  },
  {
   "cell_type": "code",
   "execution_count": 6,
   "metadata": {},
   "outputs": [
    {
     "data": {
      "text/plain": [
       "array([[ 0.58+0.j  , -0.29-0.5j , -0.29+0.5j ],\n",
       "       [ 0.  +0.j  ,  0.61-0.35j,  0.61+0.35j],\n",
       "       [ 0.82+0.j  ,  0.2 +0.35j,  0.2 -0.35j]])"
      ]
     },
     "execution_count": 6,
     "metadata": {},
     "output_type": "execute_result"
    }
   ],
   "source": [
    "match_graph_state = get_perm_matrix(3, [0,1,2], [2, 1, 0])\n",
    "\n",
    "t1= matmul(match_graph_state, t1)\n",
    "\n",
    "# logical 01 physical 12\n",
    "t2 = matmul(R( -np.pi/2, np.pi/2 + np.pi , 0, 1 ,dimension).matrix.round(4), t1 )\n",
    "\n",
    "t2= matmul(match_graph_state.T, t2)\n",
    "\n",
    "t2.round(2)"
   ]
  },
  {
   "cell_type": "code",
   "execution_count": 7,
   "metadata": {},
   "outputs": [
    {
     "data": {
      "text/plain": [
       "array([[ 0.  +0.j  , -0.61+0.35j, -0.61-0.35j],\n",
       "       [ 0.58+0.j  , -0.29-0.5j , -0.29+0.5j ],\n",
       "       [ 0.82+0.j  ,  0.2 +0.35j,  0.2 -0.35j]])"
      ]
     },
     "execution_count": 7,
     "metadata": {},
     "output_type": "execute_result"
    }
   ],
   "source": [
    "\n",
    "t3 = matmul(R( np.pi, -np.pi/2+np.pi, 0, 1 ,dimension).matrix.round(4), t2 )#R12->10\n",
    "t3.round(2)\n"
   ]
  },
  {
   "cell_type": "code",
   "execution_count": 8,
   "metadata": {},
   "outputs": [
    {
     "name": "stdout",
     "output_type": "stream",
     "text": [
      "[[-0.33+0.j   -0.33+0.58j -0.33-0.58j]\n",
      " [ 0.47+0.j   -0.59-0.2j  -0.59+0.2j ]\n",
      " [ 0.82+0.j    0.2 +0.35j  0.2 -0.35j]]\n"
     ]
    }
   ],
   "source": [
    "match_graph_state = get_perm_matrix(3, [0,1,2], [2, 0, 1])\n",
    "\n",
    "t3= matmul(match_graph_state, t3)\n",
    "\n",
    "# logical 02 physical 12\n",
    "t4 = matmul(R( -1.23 , np.pi/2+2*np.pi , 0, 2 ,dimension).matrix.round(4), t3 )#R12->10\n",
    "\n",
    "t4= matmul(match_graph_state.T, t4)\n",
    "\n",
    "print(t4.round(2))"
   ]
  },
  {
   "cell_type": "code",
   "execution_count": 9,
   "metadata": {},
   "outputs": [
    {
     "data": {
      "text/plain": [
       "array([[ 0.33+0.24j, -0.01+0.09j, -0.82+0.38j],\n",
       "       [ 0.82+0.j  ,  0.2 +0.35j,  0.2 -0.35j],\n",
       "       [-0.24-0.33j, -0.38+0.82j, -0.09+0.01j]])"
      ]
     },
     "execution_count": 9,
     "metadata": {},
     "output_type": "execute_result"
    }
   ],
   "source": [
    "match_graph_state = get_perm_matrix(3, [0,1,2], [2, 0, 1])\n",
    "\n",
    "t4= matmul(match_graph_state.T, t4)\n",
    "\n",
    "# logical 12 physical 01\n",
    "t5 = matmul( R( np.pi/2, -4*np.pi, 1, 2 ,dimension).matrix.round(4), t4 )#R12->10\n",
    "\n",
    "t5= matmul(match_graph_state.T, t5)\n",
    "t5.round(2)\n"
   ]
  },
  {
   "cell_type": "code",
   "execution_count": null,
   "metadata": {},
   "outputs": [],
   "source": []
  },
  {
   "cell_type": "code",
   "execution_count": null,
   "metadata": {},
   "outputs": [],
   "source": []
  },
  {
   "cell_type": "code",
   "execution_count": 10,
   "metadata": {},
   "outputs": [
    {
     "data": {
      "text/plain": [
       "array([[-0.17-0.37j,  0.05-0.07j,  0.9 +0.09j],\n",
       "       [-0.41-0.71j,  0.21-0.35j, -0.41-0.j  ],\n",
       "       [-0.24-0.33j, -0.38+0.82j, -0.09+0.01j]])"
      ]
     },
     "execution_count": 10,
     "metadata": {},
     "output_type": "execute_result"
    }
   ],
   "source": [
    "\n",
    "####### add Rz corrcted accordngly\n",
    "\n",
    "t6 = matmul( Rz( 2.6100, 0, dimension).matrix.round(4), t5 )#R12->10\n",
    "t6.round(2)\n",
    "\n",
    "\n",
    "t7 = matmul( Rz( 2.09 , 1, dimension).matrix.round(4), t6 )#R12->10\n",
    "t7.round(2)\n"
   ]
  },
  {
   "cell_type": "code",
   "execution_count": null,
   "metadata": {},
   "outputs": [],
   "source": []
  }
 ],
 "metadata": {
  "kernelspec": {
   "display_name": "Python 3",
   "language": "python",
   "name": "python3"
  },
  "language_info": {
   "codemirror_mode": {
    "name": "ipython",
    "version": 3
   },
   "file_extension": ".py",
   "mimetype": "text/x-python",
   "name": "python",
   "nbconvert_exporter": "python",
   "pygments_lexer": "ipython3",
   "version": "3.8.10"
  }
 },
 "nbformat": 4,
 "nbformat_minor": 4
}
