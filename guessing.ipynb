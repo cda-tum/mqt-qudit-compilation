{
 "cells": [
  {
   "cell_type": "code",
   "execution_count": 1,
   "metadata": {},
   "outputs": [],
   "source": [
    "\n",
    "#PUT THIS FILE IN THE SAME FOLDER OF THE PROJECT DOWNLOADED\n",
    "\n",
    "\n",
    "from src.circuit.Rotations import *\n",
    "from src.evaluation.Pauli import H, S, X\n",
    "from src.utils.r_utils import matmul\n",
    "import numpy as np"
   ]
  },
  {
   "cell_type": "code",
   "execution_count": 2,
   "metadata": {},
   "outputs": [],
   "source": [
    "def get_perm_matrix(dimension, nodes, mapping):\n",
    "    perm = np.zeros((dimension, dimension))\n",
    "\n",
    "    for i in range(dimension):\n",
    "        a = [0 for i in range(dimension)]\n",
    "        b = [0 for i in range(dimension)]\n",
    "        a[nodes[i]] = 1\n",
    "        b[mapping[i]] = 1\n",
    "        narr = np.array(a)\n",
    "        marr = np.array(b)\n",
    "        perm = perm + np.outer(marr, narr)\n",
    "\n",
    "    return perm\n",
    "\n"
   ]
  },
  {
   "cell_type": "code",
   "execution_count": 219,
   "metadata": {},
   "outputs": [],
   "source": [
    "dimension = 3\n",
    "\n",
    "H1 = H( dimension )\n",
    "X1= X( dimension )\n",
    "S1 = S( dimension)\n",
    "HS = matmul(H1.matrix, S1.matrix) \n"
   ]
  },
  {
   "cell_type": "code",
   "execution_count": 220,
   "metadata": {},
   "outputs": [
    {
     "name": "stdout",
     "output_type": "stream",
     "text": [
      "[[ 0.57735027+0.j   0.57735027+0.j   0.57735027+0.j ]\n",
      " [ 0.57735027+0.j  -0.28867513+0.5j -0.28867513-0.5j]\n",
      " [ 0.57735027+0.j  -0.28867513-0.5j -0.28867513+0.5j]]\n",
      "\n",
      " [[0. 1. 0.]\n",
      " [0. 0. 1.]\n",
      " [1. 0. 0.]] \n",
      " [[ 0.+0.j  1.-0.j  0.+0.j]\n",
      " [-1.-0.j  0.+0.j  0.+0.j]\n",
      " [ 0.+0.j  0.+0.j  1.+0.j]]\n",
      "\n",
      " [[ 0.57735027+0.j  -0.28867513+0.5j -0.28867513-0.5j]\n",
      " [ 0.57735027+0.j  -0.28867513-0.5j -0.28867513+0.5j]\n",
      " [ 0.57735027+0.j   0.57735027+0.j   0.57735027+0.j ]]\n",
      "---------------------\n",
      "\n"
     ]
    },
    {
     "data": {
      "text/plain": [
       "array([[ 0.+0.j, -1.-0.j,  0.+0.j],\n",
       "       [ 1.-0.j,  0.+0.j,  0.+0.j],\n",
       "       [ 0.+0.j,  0.+0.j,  1.+0.j]])"
      ]
     },
     "execution_count": 220,
     "metadata": {},
     "output_type": "execute_result"
    }
   ],
   "source": [
    "print(H1.matrix)\n",
    "\n",
    "match_graph_state = get_perm_matrix(3, [0,1,2], [2, 0, 1])\n",
    "print (\"\\n\", match_graph_state,\"\\n\",  R( np.pi, -np.pi/2, 0, 1 ,dimension).matrix.round(1))\n",
    "H1n = matmul( match_graph_state , H1.matrix)\n",
    "print(\"\\n\",H1n)\n",
    "\n",
    "print(\"---------------------\\n\")\n",
    "R( np.pi, np.pi/2, 0, 1 ,dimension).matrix.round(1)"
   ]
  },
  {
   "cell_type": "code",
   "execution_count": 240,
   "metadata": {},
   "outputs": [
    {
     "data": {
      "text/plain": [
       "array([[ 0.58+0.j , -0.29-0.5j, -0.29+0.5j],\n",
       "       [-0.58+0.j ,  0.29-0.5j,  0.29+0.5j],\n",
       "       [ 0.58+0.j ,  0.58+0.j ,  0.58+0.j ]])"
      ]
     },
     "execution_count": 240,
     "metadata": {},
     "output_type": "execute_result"
    }
   ],
   "source": [
    "t1 = matmul(R( np.pi, -np.pi/2, 0, 1 ,dimension).matrix.round(4), H1n) \n",
    "\n",
    "t1.round(2)"
   ]
  },
  {
   "cell_type": "code",
   "execution_count": 241,
   "metadata": {},
   "outputs": [
    {
     "data": {
      "text/plain": [
       "array([[ 0.58+0.j  , -0.29-0.5j , -0.29+0.5j ],\n",
       "       [ 0.  +0.j  ,  0.61-0.35j,  0.61+0.35j],\n",
       "       [ 0.82+0.j  ,  0.2 +0.35j,  0.2 -0.35j]])"
      ]
     },
     "execution_count": 241,
     "metadata": {},
     "output_type": "execute_result"
    }
   ],
   "source": [
    "\n",
    "\n",
    "# logical 01 physical 12\n",
    "t2 = matmul(R( -np.pi/2, np.pi/2 +np.pi +np.pi  , 1, 2 ,dimension).matrix.round(4), t1 )\n",
    "\n",
    "#t2 = matmul(R( np.pi, np.pi/2  , 0 ,1, dimension).matrix.round(4), t2)\n",
    "\n",
    "\n",
    "\n",
    "t2.round(2)"
   ]
  },
  {
   "cell_type": "code",
   "execution_count": 250,
   "metadata": {},
   "outputs": [
    {
     "data": {
      "text/plain": [
       "array([[ 0.  +0.j  ,  0.61-0.35j,  0.61+0.35j],\n",
       "       [-0.58+0.j  ,  0.29+0.5j ,  0.29-0.5j ],\n",
       "       [ 0.82+0.j  ,  0.2 +0.35j,  0.2 -0.35j]])"
      ]
     },
     "execution_count": 250,
     "metadata": {},
     "output_type": "execute_result"
    }
   ],
   "source": [
    "\n",
    "t3 = matmul(R( np.pi, -np.pi/2 + 2*np.pi  , 0, 1 ,dimension).matrix.round(4), t2 )#R12->10\n",
    "\n",
    "t3.round(2)"
   ]
  },
  {
   "cell_type": "code",
   "execution_count": 251,
   "metadata": {},
   "outputs": [
    {
     "name": "stdout",
     "output_type": "stream",
     "text": [
      "[[ 0.  +0.j    0.61-0.35j  0.61+0.35j]\n",
      " [-0.  +0.j    0.35+0.61j  0.35-0.61j]\n",
      " [ 1.  +0.j    0.  +0.j    0.  -0.j  ]]\n"
     ]
    }
   ],
   "source": [
    "# + np.pi\n",
    "\n",
    "# logical 02 physical 12\n",
    "t4 = matmul(R( -1.23 , np.pi/2 + np.pi   +np.pi +2*np.pi , 1 , 2 ,dimension).matrix.round(4), t3 )#R12->10\n",
    "\n",
    "\n",
    "\n",
    "print(t4.round(2))"
   ]
  },
  {
   "cell_type": "code",
   "execution_count": 244,
   "metadata": {},
   "outputs": [
    {
     "data": {
      "text/plain": [
       "array([[ 0.  -0.j  , -0.  +0.j  ,  0.87+0.5j ],\n",
       "       [-0.  +0.j  ,  0.5 +0.87j,  0.  -0.j  ],\n",
       "       [ 1.  +0.j  ,  0.  +0.j  ,  0.  -0.j  ]])"
      ]
     },
     "execution_count": 244,
     "metadata": {},
     "output_type": "execute_result"
    }
   ],
   "source": [
    "\n",
    "\n",
    "# logical 12 physical 01\n",
    "t5 = matmul( R( np.pi/2, np.pi, 0, 1 ,dimension).matrix.round(4), t4 )#R12->10\n",
    "\n",
    "\n",
    "t5.round(2)\n"
   ]
  },
  {
   "cell_type": "code",
   "execution_count": 163,
   "metadata": {},
   "outputs": [
    {
     "data": {
      "text/plain": [
       "array([[ 1.  +0.j  ,  0.  +0.j  ,  0.  -0.j  ],\n",
       "       [ 0.  -0.j  , -0.87+0.5j ,  0.  +0.j  ],\n",
       "       [ 0.  +0.j  , -0.  -0.j  , -0.5 +0.87j]])"
      ]
     },
     "execution_count": 163,
     "metadata": {},
     "output_type": "execute_result"
    }
   ],
   "source": [
    "t5_1= matmul(np.linalg.inv(get_perm_matrix(3, [0, 1, 2], [2, 0, 1]) ), t5)\n",
    "t5_1.round(2)"
   ]
  },
  {
   "cell_type": "code",
   "execution_count": null,
   "metadata": {},
   "outputs": [],
   "source": []
  },
  {
   "cell_type": "code",
   "execution_count": 10,
   "metadata": {},
   "outputs": [
    {
     "data": {
      "text/plain": [
       "array([[-0.17-0.37j,  0.05-0.07j,  0.9 +0.09j],\n",
       "       [-0.41-0.71j,  0.21-0.35j, -0.41-0.j  ],\n",
       "       [-0.24-0.33j, -0.38+0.82j, -0.09+0.01j]])"
      ]
     },
     "execution_count": 10,
     "metadata": {},
     "output_type": "execute_result"
    }
   ],
   "source": [
    "\n",
    "####### add Rz corrcted accordngly\n",
    "\n",
    "t6 = matmul( Rz( 2.6100, 0, dimension).matrix.round(4), t5 )#R12->10\n",
    "t6.round(2)\n",
    "\n",
    "\n",
    "t7 = matmul( Rz( 2.09 , 1, dimension).matrix.round(4), t6 )#R12->10\n",
    "t7.round(2)\n"
   ]
  },
  {
   "cell_type": "code",
   "execution_count": null,
   "metadata": {},
   "outputs": [],
   "source": []
  },
  {
   "cell_type": "code",
   "execution_count": null,
   "metadata": {},
   "outputs": [],
   "source": []
  },
  {
   "cell_type": "code",
   "execution_count": null,
   "metadata": {},
   "outputs": [],
   "source": []
  },
  {
   "cell_type": "code",
   "execution_count": null,
   "metadata": {},
   "outputs": [],
   "source": []
  },
  {
   "cell_type": "code",
   "execution_count": 3,
   "metadata": {},
   "outputs": [
    {
     "name": "stdout",
     "output_type": "stream",
     "text": [
      "\n",
      " [[ 0.45+0.j    0.14-0.43j -0.36-0.26j -0.36+0.26j  0.14+0.43j]\n",
      " [ 0.45+0.j    0.14+0.43j -0.36+0.26j -0.36-0.26j  0.14-0.43j]\n",
      " [ 0.45+0.j    0.45+0.j    0.45+0.j    0.45+0.j    0.45+0.j  ]\n",
      " [ 0.45+0.j   -0.36+0.26j  0.14-0.43j  0.14+0.43j -0.36-0.26j]\n",
      " [ 0.45+0.j   -0.36-0.26j  0.14+0.43j  0.14-0.43j -0.36+0.26j]]\n"
     ]
    },
    {
     "data": {
      "text/plain": [
       "array([[-0.  +0.j  ,  0.38+0.43j, -0.06-0.42j, -0.06+0.42j,  0.38-0.43j],\n",
       "       [ 0.  +0.j  , -0.22+0.3j , -0.57+0.19j, -0.57-0.19j, -0.22-0.3j ],\n",
       "       [ 1.  +0.j  ,  0.  +0.j  ,  0.  +0.j  , -0.  +0.j  , -0.  +0.j  ],\n",
       "       [ 0.  +0.j  , -0.53+0.04j,  0.08-0.45j,  0.08+0.45j, -0.53-0.04j],\n",
       "       [ 0.  +0.j  ,  0.15-0.48j, -0.4 -0.29j, -0.4 +0.29j,  0.15+0.48j]])"
      ]
     },
     "execution_count": 3,
     "metadata": {},
     "output_type": "execute_result"
    }
   ],
   "source": [
    "dimension = 5\n",
    "\n",
    "H1 = H(dimension)\n",
    "S1 = S(dimension)\n",
    "X1 = X(dimension)\n",
    "HS = matmul(H1.matrix , S1.matrix)\n",
    "\n",
    "SH = matmul(S1.matrix, H1.matrix)\n",
    "XSH = matmul(X1.matrix, SH)\n",
    "HXSH = matmul(H1.matrix, XSH)\n",
    "SHXSH = matmul(S1.matrix, HXSH)\n",
    "SHXSH2 = matmul(SHXSH , SHXSH)\n",
    "\n",
    "\n",
    "\n",
    "\n",
    "\n",
    "\n",
    "HS2 = matmul(HS, HS)\n",
    "\n",
    "Xop = X(dimension)\n",
    "Xop2 = custom_Unitary(matmul(Xop.matrix, Xop.matrix), dimension)\n",
    "\n",
    "XHS = matmul(Xop.matrix, HS)\n",
    "XHSop = custom_Unitary(XHS, dimension)\n",
    "XHS2op = custom_Unitary( matmul(XHS, XHS), dimension)\n",
    "\n",
    "HSXHS2op = custom_Unitary( matmul(HS, XHS2op.matrix), dimension)\n",
    "\n",
    "\n",
    "nodes = [ 0, 1, 2, 3, 4]\n",
    "nmap  =   [ 2, 1, 3, 4, 0]\n",
    "\n",
    "\n",
    "match_graph_state = get_perm_matrix( dimension, nodes, nmap)\n",
    "H1n = matmul( match_graph_state , H1.matrix)\n",
    "print(\"\\n\",H1n.round(2))\n",
    "\n",
    "\n",
    "\n",
    "target = np.array([[-0.    -0.j    ,  0.3779+0.4263j, -0.0551-0.4152j,\n",
    "        -0.0551+0.4152j,  0.3779-0.4263j],\n",
    "       [ 0.    -0.j    , -0.2185+0.3008j, -0.5721+0.1859j,\n",
    "        -0.5721-0.1859j, -0.2185-0.3008j],\n",
    "       [ 1.    -0.j    ,  0.    +0.j    , -0.    +0.j    ,\n",
    "        -0.    -0.j    , -0.    -0.j    ],\n",
    "       [-0.    +0.j    , -0.5344+0.041j ,  0.078 -0.4546j,\n",
    "         0.078 +0.4546j, -0.5344-0.041j ],\n",
    "       [ 0.    -0.j    ,  0.1545-0.4755j, -0.4045-0.2939j,\n",
    "        -0.4045+0.2939j,  0.1545+0.4755j]])\n",
    "target.round(2)\n"
   ]
  },
  {
   "cell_type": "code",
   "execution_count": 4,
   "metadata": {},
   "outputs": [
    {
     "data": {
      "text/plain": [
       "array([[ 0.  +0.j  ,  0.38+0.43j, -0.06-0.42j, -0.06+0.42j,  0.38-0.43j],\n",
       "       [ 0.  +0.j  , -0.22+0.3j , -0.57+0.19j, -0.57-0.19j, -0.22-0.3j ],\n",
       "       [ 0.  +0.j  , -0.53+0.04j,  0.08-0.45j,  0.08+0.45j, -0.53-0.04j],\n",
       "       [-1.  +0.j  ,  0.  +0.j  ,  0.  +0.j  ,  0.  +0.j  ,  0.  +0.j  ],\n",
       "       [ 0.  +0.j  ,  0.15-0.48j, -0.4 -0.29j, -0.4 +0.29j,  0.15+0.48j]])"
      ]
     },
     "execution_count": 4,
     "metadata": {},
     "output_type": "execute_result"
    }
   ],
   "source": [
    "#wrong segment\n",
    "\n",
    "t1 = matmul( R( np.pi, -np.pi/2 , 2, 3 ,dimension).matrix.round(4), target) \n",
    "\n",
    "t1.round(2)"
   ]
  },
  {
   "cell_type": "code",
   "execution_count": 5,
   "metadata": {},
   "outputs": [
    {
     "data": {
      "text/plain": [
       "array([[ 0.  +0.j  ,  0.38+0.43j, -0.06-0.42j, -0.06+0.42j,  0.38-0.43j],\n",
       "       [ 0.  +0.j  , -0.22+0.3j , -0.57+0.19j, -0.57-0.19j, -0.22-0.3j ],\n",
       "       [ 0.  +0.j  ,  0.15-0.48j, -0.4 -0.29j, -0.4 +0.29j,  0.15+0.48j],\n",
       "       [-1.  +0.j  ,  0.  +0.j  ,  0.  +0.j  ,  0.  +0.j  ,  0.  +0.j  ],\n",
       "       [ 0.  +0.j  ,  0.53-0.04j, -0.08+0.45j, -0.08-0.45j,  0.53+0.04j]])"
      ]
     },
     "execution_count": 5,
     "metadata": {},
     "output_type": "execute_result"
    }
   ],
   "source": [
    "\n",
    "t2 = matmul(R( np.pi, -np.pi/2 , 2, 4 ,dimension).matrix.round(4), t1) \n",
    "\n",
    "t2.round(2)"
   ]
  },
  {
   "cell_type": "code",
   "execution_count": 6,
   "metadata": {},
   "outputs": [
    {
     "data": {
      "text/plain": [
       "array([[ 0.  +0.j  , -0.53+0.04j,  0.08-0.45j,  0.08+0.45j, -0.53-0.04j],\n",
       "       [ 0.  +0.j  , -0.22+0.3j , -0.57+0.19j, -0.57-0.19j, -0.22-0.3j ],\n",
       "       [ 0.  +0.j  ,  0.15-0.48j, -0.4 -0.29j, -0.4 +0.29j,  0.15+0.48j],\n",
       "       [-1.  +0.j  ,  0.  +0.j  ,  0.  +0.j  ,  0.  +0.j  ,  0.  +0.j  ],\n",
       "       [ 0.  +0.j  ,  0.38+0.43j, -0.06-0.42j, -0.06+0.42j,  0.38-0.43j]])"
      ]
     },
     "execution_count": 6,
     "metadata": {},
     "output_type": "execute_result"
    }
   ],
   "source": [
    "\n",
    "t3 = matmul(R( -np.pi, -np.pi/2 , 0, 4 ,dimension).matrix.round(4), t2) \n",
    "\n",
    "t3.round(2)"
   ]
  },
  {
   "cell_type": "code",
   "execution_count": 11,
   "metadata": {},
   "outputs": [
    {
     "data": {
      "text/plain": [
       "array([[ 0.  +0.j  , -0.38-0.27j,  0.23-0.72j,  0.46+0.j  , -0.  -0.j  ],\n",
       "       [ 0.  +0.j  , -0.43-0.14j, -0.  -0.09j, -0.57+0.18j, -0.38-0.53j],\n",
       "       [ 0.  +0.j  ,  0.15-0.48j, -0.4 -0.29j, -0.4 +0.29j,  0.15+0.48j],\n",
       "       [-1.  +0.j  ,  0.  +0.j  ,  0.  +0.j  ,  0.  +0.j  ,  0.  +0.j  ],\n",
       "       [ 0.  +0.j  ,  0.38+0.43j, -0.06-0.42j, -0.06+0.42j,  0.38-0.43j]])"
      ]
     },
     "execution_count": 11,
     "metadata": {},
     "output_type": "execute_result"
    }
   ],
   "source": [
    "\n",
    "t4 = matmul(R( 1.92, 0.704  , 0, 1 ,dimension).matrix.round(4), t3) \n",
    "\n",
    "t4.round(2)"
   ]
  },
  {
   "cell_type": "code",
   "execution_count": null,
   "metadata": {},
   "outputs": [],
   "source": []
  },
  {
   "cell_type": "code",
   "execution_count": null,
   "metadata": {},
   "outputs": [],
   "source": []
  },
  {
   "cell_type": "code",
   "execution_count": 29,
   "metadata": {},
   "outputs": [
    {
     "data": {
      "text/plain": [
       "array([[1.+0.j, 0.+0.j, 0.+0.j, 0.+0.j, 0.+0.j],\n",
       "       [0.+0.j, 1.+0.j, 0.+0.j, 0.+0.j, 0.+0.j],\n",
       "       [0.+0.j, 0.+0.j, 1.+0.j, 0.+0.j, 0.+0.j],\n",
       "       [0.+0.j, 0.+0.j, 0.+0.j, 1.+0.j, 0.+0.j],\n",
       "       [0.+0.j, 0.+0.j, 0.+0.j, 0.+0.j, 1.+0.j]])"
      ]
     },
     "execution_count": 29,
     "metadata": {},
     "output_type": "execute_result"
    }
   ],
   "source": [
    " R( 0, 0, 2, 3 ,dimension).matrix"
   ]
  },
  {
   "cell_type": "code",
   "execution_count": 49,
   "metadata": {},
   "outputs": [
    {
     "data": {
      "text/plain": [
       "array([[ 1. +0.j , -0. -0.j ,  0. +0.j , -0. +0.j , -0. -0.j ],\n",
       "       [ 0. -0.j ,  0.6+0.j , -0.5+0.6j, -0. -0.j ,  0. -0.j ],\n",
       "       [-0. -0.j , -0.5-0.6j, -0.6+0.j ,  0. -0.j ,  0. +0.j ],\n",
       "       [-0. +0.j , -0. +0.j ,  0. +0.j ,  1. -0.j , -0. -0.j ],\n",
       "       [-0. -0.j , -0. -0.j , -0. +0.j ,  0. -0.j , -1. +0.j ]])"
      ]
     },
     "execution_count": 49,
     "metadata": {},
     "output_type": "execute_result"
    }
   ],
   "source": [
    "z = R( 0,0, 2, 4 ,dimension).matrix \n",
    "\n",
    "#z = matmul( R( np.pi, -np.pi/2 , 2, 3 ,dimension).matrix, z)\n",
    "\n",
    "z = matmul( R( np.pi, -np.pi/2 -np.pi, 2, 3 ,dimension).matrix, z )\n",
    "\n",
    "z = matmul( R( np.pi, -np.pi/2 , 2, 4 ,dimension).matrix  ,z)\n",
    "z = matmul( R( -np.pi, -np.pi/2 -np.pi, 0, 4 ,dimension).matrix ,z)\n",
    "\n",
    "z = matmul( R( 1.92, 0.704, 0, 1 ,dimension).matrix ,z)\n",
    "\n",
    "\n",
    "z = matmul( R( -np.pi, np.pi/2 -np.pi, 0, 4 ,dimension).matrix ,z)\n",
    "z = matmul( R( np.pi, np.pi/2 -np.pi, 2, 4 ,dimension).matrix  ,z)\n",
    "\n",
    "#z = matmul( R( np.pi, np.pi/2 -np.pi, 2, 3 ,dimension).matrix,z)\n",
    "\n",
    "z = matmul( R( np.pi, np.pi/2 , 2, 3 ,dimension).matrix,z)\n",
    "\n",
    "z.round(1)"
   ]
  },
  {
   "cell_type": "code",
   "execution_count": 50,
   "metadata": {},
   "outputs": [
    {
     "data": {
      "text/plain": [
       "array([[ 1. +0.j ,  0. +0.j ,  0. +0.j ,  0. +0.j ,  0. +0.j ],\n",
       "       [ 0. +0.j ,  0.6+0.j ,  0.5-0.6j,  0. +0.j ,  0. +0.j ],\n",
       "       [ 0. +0.j , -0.5-0.6j,  0.6+0.j ,  0. +0.j ,  0. +0.j ],\n",
       "       [ 0. +0.j ,  0. +0.j ,  0. +0.j ,  1. +0.j ,  0. +0.j ],\n",
       "       [ 0. +0.j ,  0. +0.j ,  0. +0.j ,  0. +0.j ,  1. +0.j ]])"
      ]
     },
     "execution_count": 50,
     "metadata": {},
     "output_type": "execute_result"
    }
   ],
   "source": [
    "R( 1.92, -0.704  , 1, 2 ,dimension).matrix.round(1)"
   ]
  },
  {
   "cell_type": "code",
   "execution_count": 166,
   "metadata": {},
   "outputs": [
    {
     "name": "stdout",
     "output_type": "stream",
     "text": [
      "3.9269908169872414\n"
     ]
    },
    {
     "data": {
      "text/plain": [
       "-2.356194490192345"
      ]
     },
     "execution_count": 166,
     "metadata": {},
     "output_type": "execute_result"
    }
   ],
   "source": [
    "def newMod(a,b = 2*np.pi):\n",
    "    res = np.mod(a,b)\n",
    "    return res if not res else res-b if a<0 else res\n",
    "\n",
    "def Pi_mod(a):\n",
    "    a = newMod(a)\n",
    "    print(a)\n",
    "    if(a > 0 and a>np.pi):\n",
    "        a = a - 2*np.pi\n",
    "    elif(a < 0 and abs(a)>np.pi):\n",
    "        a = 2*np.pi+a\n",
    "        \n",
    "    return a\n",
    "\n",
    "Pi_mod(5*np.pi/4)"
   ]
  },
  {
   "cell_type": "code",
   "execution_count": null,
   "metadata": {},
   "outputs": [],
   "source": []
  },
  {
   "cell_type": "code",
   "execution_count": null,
   "metadata": {},
   "outputs": [],
   "source": []
  },
  {
   "cell_type": "markdown",
   "metadata": {},
   "source": [
    "### Commutation of phase and pi pulse"
   ]
  },
  {
   "cell_type": "code",
   "execution_count": 317,
   "metadata": {},
   "outputs": [
    {
     "data": {
      "text/plain": [
       "array([[ 0.+0.j, -1.+0.j,  0.+0.j,  0.+0.j,  0.+0.j],\n",
       "       [-1.-0.j,  0.+0.j,  0.+0.j,  0.+0.j,  0.+0.j],\n",
       "       [ 0.+0.j,  0.+0.j,  1.+0.j,  0.+0.j,  0.+0.j],\n",
       "       [ 0.+0.j,  0.+0.j,  0.+0.j,  1.+0.j,  0.+0.j],\n",
       "       [ 0.+0.j,  0.+0.j,  0.+0.j,  0.+0.j,  1.+0.j]])"
      ]
     },
     "execution_count": 317,
     "metadata": {},
     "output_type": "execute_result"
    }
   ],
   "source": [
    "matmul(Rz(np.pi, 1, dimension).matrix, R( np.pi, np.pi/2  , 0, 1 ,dimension).matrix.round(1)).round(2)"
   ]
  },
  {
   "cell_type": "code",
   "execution_count": 323,
   "metadata": {},
   "outputs": [
    {
     "name": "stdout",
     "output_type": "stream",
     "text": [
      "[[ 0.+0.j -1.-0.j  0.+0.j  0.+0.j  0.+0.j]\n",
      " [ 1.-0.j  0.+0.j  0.+0.j  0.+0.j  0.+0.j]\n",
      " [ 0.+0.j  0.+0.j  1.+0.j  0.+0.j  0.+0.j]\n",
      " [ 0.+0.j  0.+0.j  0.+0.j  1.+0.j  0.+0.j]\n",
      " [ 0.+0.j  0.+0.j  0.+0.j  0.+0.j  1.+0.j]]\n"
     ]
    },
    {
     "data": {
      "text/plain": [
       "array([[0.+0.j, 1.+0.j, 0.+0.j, 0.+0.j, 0.+0.j],\n",
       "       [1.+0.j, 0.+0.j, 0.+0.j, 0.+0.j, 0.+0.j],\n",
       "       [0.+0.j, 0.+0.j, 1.+0.j, 0.+0.j, 0.+0.j],\n",
       "       [0.+0.j, 0.+0.j, 0.+0.j, 1.+0.j, 0.+0.j],\n",
       "       [0.+0.j, 0.+0.j, 0.+0.j, 0.+0.j, 1.+0.j]])"
      ]
     },
     "execution_count": 323,
     "metadata": {},
     "output_type": "execute_result"
    }
   ],
   "source": [
    "print(R( np.pi, np.pi/2  , 0, 1 ,dimension).matrix.round(1))\n",
    "matmul( R( np.pi, np.pi/2  , 0, 1 ,dimension).matrix.round(1), Rz(np.pi,1,dimension).matrix).round(2)"
   ]
  },
  {
   "cell_type": "code",
   "execution_count": 295,
   "metadata": {},
   "outputs": [
    {
     "name": "stdout",
     "output_type": "stream",
     "text": [
      "[[ 0.+0.j  0.+0.j  0.+0.j  0.+0.j -1.+0.j]\n",
      " [ 0.+0.j  0.+0.j -1.+0.j  0.+0.j  0.+0.j]\n",
      " [ 0.+0.j  1.+0.j  0.+0.j  0.+0.j  0.+0.j]\n",
      " [ 0.+0.j  0.+0.j  0.+0.j  1.+0.j  0.+0.j]\n",
      " [ 1.+0.j  0.+0.j  0.+0.j  0.+0.j  0.+0.j]]\n",
      "\n",
      "[[ 0.+0.j  0.+0.j  0.+0.j  0.+0.j -1.+0.j]\n",
      " [ 0.+0.j  0.+0.j  1.+0.j  0.+0.j  0.+0.j]\n",
      " [ 0.+0.j  1.+0.j  0.+0.j  0.+0.j  0.+0.j]\n",
      " [ 0.+0.j  0.+0.j  0.+0.j  1.+0.j  0.+0.j]\n",
      " [ 1.+0.j  0.+0.j  0.+0.j  0.+0.j  0.+0.j]]\n",
      "\n",
      "[[ 0.+0.j  0.+0.j  0.+0.j  0.+0.j  1.+0.j]\n",
      " [ 0.+0.j  0.+0.j -1.+0.j  0.+0.j  0.+0.j]\n",
      " [ 0.+0.j  1.+0.j  0.+0.j  0.+0.j  0.+0.j]\n",
      " [ 0.+0.j  0.+0.j  0.+0.j  1.+0.j  0.+0.j]\n",
      " [ 1.+0.j  0.+0.j  0.+0.j  0.+0.j  0.+0.j]]\n"
     ]
    }
   ],
   "source": [
    "#comuting\n",
    "x = matmul( R( np.pi, -np.pi/2 , 1,2 ,dimension).matrix.T.conj(), R( np.pi, -np.pi/2 , 0,4 ,dimension).matrix.T.conj()).round(2)\n",
    "print(x)\n",
    "print()\n",
    "print(matmul(Rz(np.pi, 1,dimension).matrix, x).round(2))\n",
    "print()\n",
    "print(matmul(Rz(np.pi, 0,dimension).matrix, x).round(2))"
   ]
  },
  {
   "cell_type": "code",
   "execution_count": 292,
   "metadata": {},
   "outputs": [
    {
     "name": "stdout",
     "output_type": "stream",
     "text": [
      "[[ 0.+0.j -1.+0.j  0.+0.j  0.+0.j -0.+0.j]\n",
      " [ 0.+0.j  0.+0.j  0.+0.j  0.+0.j -1.+0.j]\n",
      " [ 0.+0.j  0.+0.j  1.+0.j  0.+0.j  0.+0.j]\n",
      " [ 0.+0.j  0.+0.j  0.+0.j  1.+0.j  0.+0.j]\n",
      " [ 1.+0.j  0.+0.j  0.+0.j  0.+0.j  0.+0.j]]\n",
      "[[ 0.+0.j  1.+0.j  0.+0.j  0.+0.j  0.+0.j]\n",
      " [ 0.+0.j  0.+0.j  0.+0.j  0.+0.j -1.+0.j]\n",
      " [ 0.+0.j  0.+0.j  1.+0.j  0.+0.j  0.+0.j]\n",
      " [ 0.+0.j  0.+0.j  0.+0.j  1.+0.j  0.+0.j]\n",
      " [ 1.+0.j  0.+0.j  0.+0.j  0.+0.j  0.+0.j]]\n",
      "[[ 0.+0.j -1.+0.j  0.+0.j  0.+0.j  0.+0.j]\n",
      " [ 0.+0.j  0.+0.j  0.+0.j  0.+0.j  1.+0.j]\n",
      " [ 0.+0.j  0.+0.j  1.+0.j  0.+0.j  0.+0.j]\n",
      " [ 0.+0.j  0.+0.j  0.+0.j  1.+0.j  0.+0.j]\n",
      " [ 1.+0.j  0.+0.j  0.+0.j  0.+0.j  0.+0.j]]\n"
     ]
    }
   ],
   "source": [
    "#non comm\n",
    "x = matmul( R( np.pi, -np.pi/2 , 0,1 ,dimension).matrix.T.conj(), R( np.pi, -np.pi/2 , 0,4 ,dimension).matrix.T.conj()).round(2)\n",
    "print(x)\n",
    "print(matmul(Rz(np.pi, 0,dimension).matrix, x).round(2))\n",
    "print(matmul(Rz(np.pi, 1,dimension).matrix, x).round(2))"
   ]
  },
  {
   "cell_type": "code",
   "execution_count": 279,
   "metadata": {},
   "outputs": [
    {
     "data": {
      "text/plain": [
       "array([[ 0.+0.j, -1.-0.j,  0.+0.j,  0.+0.j,  0.+0.j],\n",
       "       [ 1.-0.j,  0.+0.j,  0.+0.j,  0.+0.j,  0.+0.j],\n",
       "       [ 0.+0.j,  0.+0.j,  1.+0.j,  0.+0.j,  0.+0.j],\n",
       "       [ 0.+0.j,  0.+0.j,  0.+0.j,  1.+0.j,  0.+0.j],\n",
       "       [ 0.+0.j,  0.+0.j,  0.+0.j,  0.+0.j,  1.+0.j]])"
      ]
     },
     "execution_count": 279,
     "metadata": {},
     "output_type": "execute_result"
    }
   ],
   "source": [
    "R( np.pi, np.pi/2  , 0, 1 ,dimension).matrix.round(1)"
   ]
  },
  {
   "cell_type": "markdown",
   "metadata": {},
   "source": [
    "### Retrieval dimension 5"
   ]
  },
  {
   "cell_type": "code",
   "execution_count": 376,
   "metadata": {},
   "outputs": [],
   "source": [
    "nodes = [ 0, 1, 2, 3, 4]\n",
    "nmap  = [ 2, 1, 3, 4, 0]\n",
    "\n",
    "target = H1.matrix\n"
   ]
  },
  {
   "cell_type": "code",
   "execution_count": 377,
   "metadata": {},
   "outputs": [],
   "source": [
    "#logical 01 \n",
    "\n",
    "zl = matmul( R( np.pi/2, -np.pi/2 , 0,1 ,dimension).matrix , H1.matrix)"
   ]
  },
  {
   "cell_type": "code",
   "execution_count": 378,
   "metadata": {},
   "outputs": [
    {
     "name": "stdout",
     "output_type": "stream",
     "text": [
      "[[ 0.632-0.j     0.414+0.301j  0.06 +0.186j  0.06 -0.186j  0.414-0.301j]\n",
      " [ 0.   -0.j    -0.219+0.301j -0.572+0.186j -0.572-0.186j -0.219-0.301j]\n",
      " [ 0.447+0.j    -0.362+0.263j  0.138-0.425j  0.138+0.425j -0.362-0.263j]\n",
      " [ 0.447-0.j    -0.362-0.263j  0.138+0.425j  0.138-0.425j -0.362+0.263j]\n",
      " [ 0.447+0.j     0.138-0.425j -0.362-0.263j -0.362+0.263j  0.138+0.425j]]\n",
      "\n",
      "[[ 0.632-0.j     0.414+0.301j  0.06 +0.186j  0.06 -0.186j  0.414-0.301j]\n",
      " [ 0.   -0.j    -0.219+0.301j -0.572+0.186j -0.572-0.186j -0.219-0.301j]\n",
      " [ 0.447+0.j    -0.362+0.263j  0.138-0.425j  0.138+0.425j -0.362-0.263j]\n",
      " [ 0.447+0.j    -0.362-0.263j  0.138+0.425j  0.138-0.425j -0.362+0.263j]\n",
      " [ 0.447+0.j     0.138-0.425j -0.362-0.263j -0.362+0.263j  0.138+0.425j]]\n",
      "\n",
      "True\n"
     ]
    }
   ],
   "source": [
    "match_graph_stateLtoP = get_perm_matrix( dimension, nodes, nmap)\n",
    "\n",
    "z = matmul( match_graph_stateLtoP , target)\n",
    "\n",
    "#logical 01 phy 24\n",
    "\n",
    "z = matmul( R( np.pi, -np.pi/2 , 0,1 ,dimension).matrix, z)\n",
    "z = matmul( R( np.pi, -np.pi/2  , 0,4 ,dimension).matrix, z )\n",
    "\n",
    "z = matmul( R( -np.pi/2, -np.pi/2  , 2,4 ,dimension).matrix, z) #t flip\n",
    "\n",
    "\n",
    "#@@@@@@@@@@@@@@@@@@@@@@@@@@@@@@@@@@@@@@@@@@@@@@@@@@@@@@@@@@@@@@@@@@@@@@@@@\n",
    "match_graph_stateP2L1 = matmul( R( np.pi, -np.pi/2 , 0,1 ,dimension).matrix.T.conj(), R( np.pi, -np.pi/2 , 0,4 ,dimension).matrix.T.conj())\n",
    "match_graph_stateP2L1 = abs(matmul( match_graph_stateLtoP.conj().T , match_graph_stateP2L1))  \n",
    "#@@@@@@@@@@@@@@@@@@@@@@@@@@@@@@@@@@@@@@@@@@@@@@@@@@@@@@@@@@@@@@@@@@@@@@@@@\n",
    "\n",
    "\n",
    "z = matmul( Rz( np.pi, 1 ,dimension).matrix ,z)\n",
    "z = matmul( Rz(np.pi, 4, dimension).matrix, z)\n",
    "\n",
    "#@@@@@@@@@@@@@@@@@@@@@@@@@@@@@@@@@@@@@@@@@@@@@@@@@@@@@@@@@@@@@@@@@@@@@@@@@@\n",
    "\n",
    "z = matmul( match_graph_stateP2L1, z)\n",
    "\n",
    "\n",
    "print(z.round(3))\n",
    "print()\n",
    "print(zl.round(3))\n",
    "print()\n",
    "print( (np.abs(z- zl) < 1e-6).all() )\n",
    "\n"
   ]
  },
  {
   "cell_type": "code",
   "execution_count": 379,
   "metadata": {},
   "outputs": [
    {
     "data": {
      "text/plain": [
       "array([[ 0.77-0.j  ,  0.13+0.4j ,  0.13-0.09j,  0.13+0.09j,  0.13-0.4j ],\n",
       "       [ 0.  -0.j  , -0.22+0.3j , -0.57+0.19j, -0.57-0.19j, -0.22-0.3j ],\n",
       "       [ 0.  -0.j  , -0.53+0.04j,  0.08-0.45j,  0.08+0.45j, -0.53-0.04j],\n",
       "       [ 0.45+0.j  , -0.36-0.26j,  0.14+0.43j,  0.14-0.43j, -0.36+0.26j],\n",
       "       [ 0.45+0.j  ,  0.14-0.43j, -0.36-0.26j, -0.36+0.26j,  0.14+0.43j]])"
      ]
     },
     "execution_count": 379,
     "metadata": {},
     "output_type": "execute_result"
    }
   ],
   "source": [
    "zl = matmul( R( np.pi/2, -np.pi/2 , 0,1 ,dimension).matrix , H1.matrix)\n",
    "zl = matmul( R( 1.23, -np.pi/2 , 0,2 ,dimension).matrix , zl)\n",
    "zl.round(2)"
   ]
  },
  {
   "cell_type": "code",
   "execution_count": 380,
   "metadata": {},
   "outputs": [
    {
     "name": "stdout",
     "output_type": "stream",
     "text": [
      "[[ 0.775-0.j     0.129+0.397j  0.129-0.094j  0.129+0.094j  0.129-0.397j]\n",
      " [ 0.   -0.j    -0.219+0.301j -0.572+0.186j -0.572-0.186j -0.219-0.301j]\n",
      " [ 0.   -0.j    -0.534+0.041j  0.078-0.455j  0.078+0.455j -0.534-0.041j]\n",
      " [ 0.447-0.j    -0.362-0.263j  0.138+0.425j  0.138-0.425j -0.362+0.263j]\n",
      " [ 0.447+0.j     0.138-0.425j -0.362-0.263j -0.362+0.263j  0.138+0.425j]]\n",
      "\n",
      "[[ 0.775-0.j     0.129+0.397j  0.129-0.094j  0.129+0.094j  0.129-0.397j]\n",
      " [ 0.   -0.j    -0.219+0.301j -0.572+0.186j -0.572-0.186j -0.219-0.301j]\n",
      " [ 0.   -0.j    -0.534+0.041j  0.078-0.455j  0.078+0.455j -0.534-0.041j]\n",
      " [ 0.447+0.j    -0.362-0.263j  0.138+0.425j  0.138-0.425j -0.362+0.263j]\n",
      " [ 0.447+0.j     0.138-0.425j -0.362-0.263j -0.362+0.263j  0.138+0.425j]]\n",
      "\n",
      "True\n"
     ]
    }
   ],
   "source": [
    "z = matmul( match_graph_state , target)\n",
    "\n",
    "#logical 01 phy 24 + l 02 phy 23\n",
    "\n",
    "z = matmul( R( np.pi, -np.pi/2 , 0,1 ,dimension).matrix, z)\n",
    "z = matmul( R( np.pi, -np.pi/2  , 0,4 ,dimension).matrix, z )\n",
    "\n",
    "z = matmul( R( -np.pi/2, -np.pi/2 , 2,4 ,dimension).matrix ,z) #t flip\n",
    "\n",
    "#---\n",
    "\n",
    "z = matmul( R( 1.23, -np.pi/2 , 2,3 ,dimension).matrix ,z) #t flip # single rotation commuting with pi pulses\n",
    "\n",
    "#@@@@@@@@@@@@@@@@@@@@@@@@@@@@@@@@@@@@@@@@@@@@@@@@@@@@@@@@@@@@@@@@@@@@@@@@@\n",
    "match_graph_stateP2L2 = matmul( R( np.pi, np.pi/2 , 0,1 ,dimension).matrix.T.conj(), R( np.pi, np.pi/2 , 0,4 ,dimension).matrix.T.conj())\n",
    "match_graph_stateP2L2 = abs(matmul( match_graph_stateLtoP.conj().T , match_graph_stateP2L2))  \n",
    "#@@@@@@@@@@@@@@@@@@@@@@@@@@@@@@@@@@@@@@@@@@@@@@@@@@@@@@@@@@@@@@@@@@@@@@@@@\n",
    "\n",
    "\n",
    "z = matmul( Rz( np.pi, 1 ,dimension).matrix ,z)\n",
    "z = matmul( Rz(np.pi, 4, dimension).matrix, z)\n",
    "\n",
    "#@@@@@@@@@@@@@@@@@@@@@@@@@@@@@@@@@@@@@@@@@@@@@@@@@@@@@@@@@@@@@@@@@@@@@@@@@@\n",
    "\n",
    "\n",
    "z = matmul( match_graph_stateP2L2 , z)\n",
    "\n",
    "\n",
    "print(z.round(3))\n",
    "print()\n",
    "print(zl.round(3))\n",
    "print()\n",
    "print( (np.abs(z- zl) < 1e-6).all() )"
   ]
  },
  {
   "cell_type": "code",
   "execution_count": 381,
   "metadata": {},
   "outputs": [
    {
     "data": {
      "text/plain": [
       "array([[ 0.89-0.j  , -0.07+0.21j,  0.18+0.13j,  0.18-0.13j, -0.07-0.21j],\n",
       "       [ 0.  -0.j  , -0.22+0.3j , -0.57+0.19j, -0.57-0.19j, -0.22-0.3j ],\n",
       "       [ 0.  -0.j  , -0.53+0.04j,  0.08-0.45j,  0.08+0.45j, -0.53-0.04j],\n",
       "       [ 0.  -0.j  , -0.38-0.43j,  0.06+0.42j,  0.06-0.42j, -0.38+0.43j],\n",
       "       [ 0.45+0.j  ,  0.14-0.43j, -0.36-0.26j, -0.36+0.26j,  0.14+0.43j]])"
      ]
     },
     "execution_count": 381,
     "metadata": {},
     "output_type": "execute_result"
    }
   ],
   "source": [
    "zl = matmul( R( np.pi/2, -np.pi/2 , 0,1 ,dimension).matrix , H1.matrix)\n",
    "zl = matmul( R( 1.23, -np.pi/2 , 0,2 ,dimension).matrix , zl)\n",
    "zl = matmul( R( 1.04, -np.pi/2 , 0,3 ,dimension).matrix , zl)\n",
    "\n",
    "zl.round(2)"
   ]
  },
  {
   "cell_type": "code",
   "execution_count": 344,
   "metadata": {},
   "outputs": [
    {
     "name": "stdout",
     "output_type": "stream",
     "text": [
      "[[ 0.894-0.j    -0.068+0.214j  0.181+0.13j   0.181-0.13j  -0.068-0.214j]\n",
      " [ 0.   -0.j    -0.219+0.301j -0.572+0.186j -0.572-0.186j -0.219-0.301j]\n",
      " [ 0.   -0.j    -0.534+0.041j  0.078-0.455j  0.078+0.455j -0.534-0.041j]\n",
      " [ 0.003-0.j    -0.378-0.426j  0.056+0.416j  0.056-0.416j -0.378+0.426j]\n",
      " [ 0.447+0.j     0.138-0.425j -0.362-0.263j -0.362+0.263j  0.138+0.425j]]\n",
      "\n",
      "[[ 0.894-0.j    -0.068+0.214j  0.181+0.13j   0.181-0.13j  -0.068-0.214j]\n",
      " [ 0.   -0.j    -0.219+0.301j -0.572+0.186j -0.572-0.186j -0.219-0.301j]\n",
      " [ 0.   -0.j    -0.534+0.041j  0.078-0.455j  0.078+0.455j -0.534-0.041j]\n",
      " [ 0.003-0.j    -0.378-0.426j  0.056+0.416j  0.056-0.416j -0.378+0.426j]\n",
      " [ 0.447+0.j     0.138-0.425j -0.362-0.263j -0.362+0.263j  0.138+0.425j]]\n",
      "\n",
      "True\n"
     ]
    }
   ],
   "source": [
    "z = matmul( match_graph_state , target)\n",
    "\n",
    "#logical 01 phy 24 + l 02 phy 23\n",
    "\n",
    "z = matmul( R( np.pi, -np.pi/2 , 0,1 ,dimension).matrix, z)\n",
    "z = matmul( R( np.pi, -np.pi/2  , 0,4 ,dimension).matrix, z )\n",
    "\n",
    "z = matmul( R( -np.pi/2, -np.pi/2 , 2,4 ,dimension).matrix ,z) #t flip\n",
    "\n",
    "#---\n",
    "\n",
    "z = matmul( R( 1.23, -np.pi/2 , 2,3 ,dimension).matrix ,z) #single rotation commuting with pi pulses\n",
    "\n",
    "#-------\n",
    "\n",
    "z = matmul( R( np.pi, -np.pi/2 +np.pi , 0,4 ,dimension).matrix, z)\n",
    "\n",
    "z = matmul( R( -1.04, -np.pi/2 +np.pi, 2,4 ,dimension).matrix, z) #t flip\n",
    "\n",
    "\n",
    "\n",
    "#@@@@@@@@@@@@@@@@@@@@@@@@@@@@@@@@@@@@@@@@@@@@@@@@@@@@@@@@@@@@@@@@@@@@@@@@@\n",
    "match_graph_stateP2L3 = abs(matmul( match_graph_stateP2L2, R( np.pi, -np.pi/2, 0,4  ,dimension).matrix.T.conj()))\n",
    "#@@@@@@@@@@@@@@@@@@@@@@@@@@@@@@@@@@@@@@@@@@@@@@@@@@@@@@@@@@@@@@@@@@@@@@@@@\n",
    "\n",
    "#z = matmul( Rz(np.pi, 0, dimension).matrix, z)\n",
    "z = matmul( Rz(np.pi, 1 ,dimension).matrix ,z)\n",
    "#z = matmul( Rz(np.pi, 4, dimension).matrix, z)\n",
    "#--\n",
    "\n",
    "#@@@@@@@@@@@@@@@@@@@@@@@@@@@@@@@@@@@@@@@@@@@@@@@@@@@@@@@@@@@@@@@@@@@@@@@@@@\n",
    "\n",
    "\n",
    "z = matmul( match_graph_stateP2L3 , z)\n",
    "\n",
    "\n",
    "print(z.round(3))\n",
    "print()\n",
    "print(zl.round(3))\n",
    "print()\n",
    "print( (np.abs(z- zl) < 1e-6).all() )"
   ]
  },
  {
   "cell_type": "code",
   "execution_count": 352,
   "metadata": {},
   "outputs": [
    {
     "name": "stdout",
     "output_type": "stream",
     "text": [
      "[[ 1.   -0.j     0.001+0.003j  0.001-0.j     0.001+0.j     0.001-0.003j]\n",
      " [ 0.   -0.j    -0.219+0.301j -0.572+0.186j -0.572-0.186j -0.219-0.301j]\n",
      " [ 0.   -0.j    -0.534+0.041j  0.078-0.455j  0.078+0.455j -0.534-0.041j]\n",
      " [ 0.003-0.j    -0.378-0.426j  0.056+0.416j  0.056-0.416j -0.378+0.426j]\n",
      " [ 0.004-0.j     0.154-0.476j -0.404-0.293j -0.404+0.293j  0.154+0.476j]]\n"
     ]
    }
   ],
   "source": [
    "### ROTATION 57\n",
    "zl = matmul( R( np.pi/2, -np.pi/2 , 0,1 ,dimension).matrix , H1.matrix)\n",
    "zl = matmul( R( 1.23, -np.pi/2 , 0,2 ,dimension).matrix , zl)\n",
    "zl = matmul( R( 1.04, -np.pi/2 , 0,3 ,dimension).matrix , zl)\n",
    "zl = matmul( R( 0.92, -np.pi/2 , 0,4 ,dimension).matrix , zl)\n",
    "\n",
    "print(zl.round(3))"
   ]
  },
  {
   "cell_type": "code",
   "execution_count": 353,
   "metadata": {},
   "outputs": [
    {
     "name": "stdout",
     "output_type": "stream",
     "text": [
      "[[ 1.   -0.j     0.001+0.003j  0.001-0.j     0.001+0.j     0.001-0.003j]\n",
      " [ 0.   -0.j    -0.219+0.301j -0.572+0.186j -0.572-0.186j -0.219-0.301j]\n",
      " [ 0.   -0.j    -0.534+0.041j  0.078-0.455j  0.078+0.455j -0.534-0.041j]\n",
      " [ 0.003-0.j    -0.378-0.426j  0.056+0.416j  0.056-0.416j -0.378+0.426j]\n",
      " [ 0.004+0.j     0.154-0.476j -0.404-0.293j -0.404+0.293j  0.154+0.476j]]\n",
      "\n",
      "[[ 1.   -0.j     0.001+0.003j  0.001-0.j     0.001+0.j     0.001-0.003j]\n",
      " [ 0.   -0.j    -0.219+0.301j -0.572+0.186j -0.572-0.186j -0.219-0.301j]\n",
      " [ 0.   -0.j    -0.534+0.041j  0.078-0.455j  0.078+0.455j -0.534-0.041j]\n",
      " [ 0.003-0.j    -0.378-0.426j  0.056+0.416j  0.056-0.416j -0.378+0.426j]\n",
      " [ 0.004-0.j     0.154-0.476j -0.404-0.293j -0.404+0.293j  0.154+0.476j]]\n",
      "\n",
      "True\n"
     ]
    }
   ],
   "source": [
    "z = matmul( match_graph_state , target)\n",
    "\n",
    "#logical 01 phy 24 + l 02 phy 23\n",
    "\n",
    "z = matmul( R( np.pi, -np.pi/2 , 0,1 ,dimension).matrix, z)\n",
    "z = matmul( R( np.pi, -np.pi/2  , 0,4 ,dimension).matrix, z )\n",
    "\n",
    "z = matmul( R( -np.pi/2, -np.pi/2 , 2,4 ,dimension).matrix ,z) #t flip\n",
    "\n",
    "#---\n",
    "\n",
    "z = matmul( R( 1.23, -np.pi/2 , 2,3 ,dimension).matrix ,z) #single rotation commuting with pi pulses\n",
    "\n",
    "#-------\n",
    "\n",
    "z = matmul( R( np.pi, -np.pi/2 +np.pi , 0,4 ,dimension).matrix, z)\n",
    "\n",
    "z = matmul( R( -1.04, -np.pi/2 +np.pi, 2,4 ,dimension).matrix, z) #t flip\n",
    "\n",
    "#-------\n",
    "z = matmul( R( np.pi, -np.pi/2 +np.pi, 0,1 ,dimension).matrix, z)\n",
    "z = matmul( R( np.pi, -np.pi/2 , 0,4 ,dimension).matrix, z )\n",
    "\n",
    "z = matmul( R( -0.92, -np.pi/2 , 2,4 ,dimension).matrix, z) #t flip\n",
    "\n",
    "\n",
    "\n",
    "\n",
    "#@@@@@@@@@@@@@@@@@@@@@@@@@@@@@@@@@@@@@@@@@@@@@@@@@@@@@@@@@@@@@@@@@@@@@@@@@\n",
    "fixer = abs( matmul( R( np.pi, -np.pi/2 +np.pi, 0,1,dimension).matrix.T.conj(), R( np.pi, -np.pi/2, 0,4  ,dimension).matrix.T.conj()) ) \n",
    "match_graph_stateP2L4 = matmul( match_graph_stateP2L3, fixer)\n",
    "#@@@@@@@@@@@@@@@@@@@@@@@@@@@@@@@@@@@@@@@@@@@@@@@@@@@@@@@@@@@@@@@@@@@@@@@@@\n",
    "\n",
    "#z = matmul( Rz(np.pi, 0, dimension).matrix, z)\n",
    "#z = matmul( Rz(np.pi, 1 ,dimension).matrix ,z)\n",
    "z = matmul( Rz(np.pi, 4, dimension).matrix, z)\n",
    "#--\n",
    "\n",
    "#@@@@@@@@@@@@@@@@@@@@@@@@@@@@@@@@@@@@@@@@@@@@@@@@@@@@@@@@@@@@@@@@@@@@@@@@@@\n",
    "\n",
    "\n",
    "z = matmul( match_graph_stateP2L4 , z)\n",
    "\n",
    "\n",
    "print(z.round(3))\n",
    "print()\n",
    "print(zl.round(3))\n",
    "print()\n",
    "print( (np.abs(z- zl) < 1e-6).all() )"
   ]
  },
  {
   "cell_type": "code",
   "execution_count": 370,
   "metadata": {},
   "outputs": [
    {
     "name": "stdout",
     "output_type": "stream",
     "text": [
      "[[ 1.   -0.j     0.001+0.003j  0.001-0.j     0.001+0.j     0.001-0.003j]\n",
      " [ 0.   -0.j    -0.383+0.528j -0.569-0.185j  0.   +0.087j -0.435+0.141j]\n",
      " [ 0.   -0.j     0.   +0.j     0.465-0.j     0.233+0.716j -0.376+0.273j]\n",
      " [ 0.003-0.j    -0.378-0.426j  0.056+0.416j  0.056-0.416j -0.378+0.426j]\n",
      " [ 0.004-0.j     0.154-0.476j -0.404-0.293j -0.404+0.293j  0.154+0.476j]]\n"
     ]
    }
   ],
   "source": [
    "### ROTATION 71\n",
    "zl = matmul( R( np.pi/2, -np.pi/2 , 0,1 ,dimension).matrix , H1.matrix)\n",
    "zl = matmul( R( 1.23, -np.pi/2 , 0,2 ,dimension).matrix , zl)\n",
    "zl = matmul( R( 1.04, -np.pi/2 , 0,3 ,dimension).matrix , zl)\n",
    "zl = matmul( R( 0.92, -np.pi/2 , 0,4 ,dimension).matrix , zl)\n",
    "zl = matmul( R( 1.92876554508012, -0.7048717707030305 ,   1,2 ,dimension).matrix , zl)\n",
    "\n",
    "\n",
    "print(zl.round(3))"
   ]
  },
  {
   "cell_type": "code",
   "execution_count": 375,
   "metadata": {},
   "outputs": [
    {
     "name": "stdout",
     "output_type": "stream",
     "text": [
      "[[ 1.   +0.j     0.001+0.003j  0.001-0.j     0.001+0.j     0.001-0.003j]\n",
      " [ 0.   -0.j    -0.383+0.528j -0.569-0.185j  0.   +0.087j -0.435+0.141j]\n",
      " [ 0.   -0.j     0.   +0.j     0.465-0.j     0.233+0.716j -0.376+0.273j]\n",
      " [ 0.003-0.j    -0.378-0.426j  0.056+0.416j  0.056-0.416j -0.378+0.426j]\n",
      " [ 0.004+0.j     0.154-0.476j -0.404-0.293j -0.404+0.293j  0.154+0.476j]]\n",
      "\n",
      "[[ 1.   -0.j     0.001+0.003j  0.001-0.j     0.001+0.j     0.001-0.003j]\n",
      " [ 0.   -0.j    -0.383+0.528j -0.569-0.185j  0.   +0.087j -0.435+0.141j]\n",
      " [ 0.   -0.j     0.   +0.j     0.465-0.j     0.233+0.716j -0.376+0.273j]\n",
      " [ 0.003-0.j    -0.378-0.426j  0.056+0.416j  0.056-0.416j -0.378+0.426j]\n",
      " [ 0.004-0.j     0.154-0.476j -0.404-0.293j -0.404+0.293j  0.154+0.476j]]\n",
      "\n",
      "True\n"
     ]
    }
   ],
   "source": [
    "z = matmul( match_graph_state , target)\n",
    "\n",
    "#logical 01 phy 24 + l 02 phy 23\n",
    "\n",
    "z = matmul( R( np.pi, -np.pi/2 , 0,1 ,dimension).matrix, z)\n",
    "z = matmul( R( np.pi, -np.pi/2  , 0,4 ,dimension).matrix, z )\n",
    "\n",
    "z = matmul( R( -np.pi/2, -np.pi/2 , 2,4 ,dimension).matrix ,z) #t flip\n",
    "\n",
    "#---\n",
    "\n",
    "z = matmul( R( 1.23, -np.pi/2 , 2,3 ,dimension).matrix ,z) #single rotation commuting with pi pulses\n",
    "\n",
    "#-------\n",
    "\n",
    "z = matmul( R( np.pi, -np.pi/2 +np.pi , 0,4 ,dimension).matrix, z)\n",
    "\n",
    "z = matmul( R( -1.04, -np.pi/2 +np.pi, 2,4 ,dimension).matrix, z) #t flip\n",
    "\n",
    "#-------\n",
    "z = matmul( R( np.pi, -np.pi/2 +np.pi, 0,1 ,dimension).matrix, z)\n",
    "z = matmul( R( np.pi, -np.pi/2 , 0,4 ,dimension).matrix, z )\n",
    "\n",
    "z = matmul( R( -0.92, -np.pi/2 , 2,4 ,dimension).matrix, z) #t flip\n",
    "\n",
    "#------------\n",
    "z = matmul( R( np.pi, -np.pi/2 , 2,3 ,dimension).matrix, z)\n",
    "z = matmul( R( np.pi, -np.pi/2 +np.pi, 2,4 ,dimension).matrix, z )\n",
    "z = matmul( R( -np.pi, -np.pi/2 +np.pi, 0,4 ,dimension).matrix, z)# theta flip  ???\n",
    "\n",
    "z = matmul( R( 1.92876554508012, 0.7048717707030305, 0,1 ,dimension).matrix, z )# phi flip -no theta flip-\n",
    "\n",
    "\n",
    "\n",
    "#@@@@@@@@@@@@@@@@@@@@@@@@@@@@@@@@@@@@@@@@@@@@@@@@@@@@@@@@@@@@@@@@@@@@@@@@@\n",
    "fixer = abs( matmul( R( -np.pi, -np.pi/2 +np.pi, 0,4, dimension).matrix.T.conj(), R( 0, 0, 0,4  ,dimension).matrix)) \n",
    "fixer = abs( matmul( R( np.pi, -np.pi/2 +np.pi, 2,4,dimension).matrix.T.conj(), fixer) )\n",
    "fixer = abs( matmul(  R( np.pi, -np.pi/2 , 2,3 ,dimension).matrix.T.conj(), fixer ) )\n",
    "            \n",
    "match_graph_stateP2L5 = matmul( match_graph_stateP2L4, fixer)\n",
    "#@@@@@@@@@@@@@@@@@@@@@@@@@@@@@@@@@@@@@@@@@@@@@@@@@@@@@@@@@@@@@@@@@@@@@@@@@\n",
    "\n",
    "#z = matmul( Rz(np.pi, 0, dimension).matrix, z)\n",
    "#z = matmul( Rz(np.pi, 1 ,dimension).matrix ,z)\n",
    "z = matmul( Rz(np.pi, 3, dimension).matrix, z)\n",
    "z = matmul( Rz(np.pi, 4, dimension).matrix, z)\n",
    "#--\n",
    "\n",
    "#@@@@@@@@@@@@@@@@@@@@@@@@@@@@@@@@@@@@@@@@@@@@@@@@@@@@@@@@@@@@@@@@@@@@@@@@@@\n",
    "\n",
    "\n",
    "z = matmul( match_graph_stateP2L5 , z)\n",
    "\n",
    "\n",
    "print(z.round(3))\n",
    "print()\n",
    "print(zl.round(3))\n",
    "print()\n",
    "print( (np.abs(z- zl) < 1e-6).all() )"
   ]
  },
  {
   "cell_type": "code",
   "execution_count": null,
   "metadata": {},
   "outputs": [],
   "source": []
  },
  {
   "cell_type": "code",
   "execution_count": null,
   "metadata": {},
   "outputs": [],
   "source": []
  },
  {
   "cell_type": "code",
   "execution_count": null,
   "metadata": {},
   "outputs": [],
   "source": []
  },
  {
   "cell_type": "code",
   "execution_count": null,
   "metadata": {},
   "outputs": [],
   "source": []
  },
  {
   "cell_type": "code",
   "execution_count": null,
   "metadata": {},
   "outputs": [],
   "source": []
  },
  {
   "cell_type": "code",
   "execution_count": null,
   "metadata": {},
   "outputs": [],
   "source": []
  },
  {
   "cell_type": "code",
   "execution_count": null,
   "metadata": {},
   "outputs": [],
   "source": []
  },
  {
   "cell_type": "code",
   "execution_count": 82,
   "metadata": {},
   "outputs": [],
   "source": [
    "nodes = [ 0, 1, 2, 3, 4]\n",
    "nmap =   [ 3, 2, 1, 4, 0]\n",
    "\n",
    "target = H1.matrix\n"
   ]
  },
  {
   "cell_type": "code",
   "execution_count": 83,
   "metadata": {},
   "outputs": [
    {
     "name": "stdout",
     "output_type": "stream",
     "text": [
      "[[ 0.63-0.j    0.41+0.3j   0.06+0.19j  0.06-0.19j  0.41-0.3j ]\n",
      " [ 0.  -0.j   -0.22+0.3j  -0.57+0.19j -0.57-0.19j -0.22-0.3j ]\n",
      " [ 0.45+0.j   -0.36+0.26j  0.14-0.43j  0.14+0.43j -0.36-0.26j]\n",
      " [ 0.45+0.j   -0.36-0.26j  0.14+0.43j  0.14-0.43j -0.36+0.26j]\n",
      " [ 0.45+0.j    0.14-0.43j -0.36-0.26j -0.36+0.26j  0.14+0.43j]]\n"
     ]
    }
   ],
   "source": [
    "#logical 01 \n",
    "\n",
    "zl = matmul( R( np.pi/2, -np.pi/2 , 0,1 ,dimension).matrix , H1.matrix)\n",
    "print(zl.round(2))"
   ]
  },
  {
   "cell_type": "code",
   "execution_count": 84,
   "metadata": {},
   "outputs": [
    {
     "name": "stdout",
     "output_type": "stream",
     "text": [
      "[[ 0.632+0.j     0.414+0.301j  0.06 +0.186j  0.06 -0.186j  0.414-0.301j]\n",
      " [ 0.   +0.j    -0.219+0.301j -0.572+0.186j -0.572-0.186j -0.219-0.301j]\n",
      " [ 0.447+0.j    -0.362+0.263j  0.138-0.425j  0.138+0.425j -0.362-0.263j]\n",
      " [ 0.447-0.j    -0.362-0.263j  0.138+0.425j  0.138-0.425j -0.362+0.263j]\n",
      " [ 0.447+0.j     0.138-0.425j -0.362-0.263j -0.362+0.263j  0.138+0.425j]]\n",
      "\n",
      "[[ 0.632-0.j     0.414+0.301j  0.06 +0.186j  0.06 -0.186j  0.414-0.301j]\n",
      " [ 0.   -0.j    -0.219+0.301j -0.572+0.186j -0.572-0.186j -0.219-0.301j]\n",
      " [ 0.447+0.j    -0.362+0.263j  0.138-0.425j  0.138+0.425j -0.362-0.263j]\n",
      " [ 0.447+0.j    -0.362-0.263j  0.138+0.425j  0.138-0.425j -0.362+0.263j]\n",
      " [ 0.447+0.j     0.138-0.425j -0.362-0.263j -0.362+0.263j  0.138+0.425j]]\n",
      "\n",
      "True\n"
     ]
    }
   ],
   "source": [
    "match_graph_stateLtoP = get_perm_matrix( dimension, nodes, nmap)\n",
    "\n",
    "z = matmul( match_graph_stateLtoP , target)\n",
    "\n",
    "#logical 01 phy 24\n",
    "\n",
    "z = matmul( R( np.pi, -np.pi/2 , 2,4 ,dimension).matrix, z)\n",
    "\n",
    "z = matmul( R( -np.pi/2, -np.pi/2  , 3, 4 ,dimension).matrix, z) #t flip\n",
    "\n",
    "\n",
    "#@@@@@@@@@@@@@@@@@@@@@@@@@@@@@@@@@@@@@@@@@@@@@@@@@@@@@@@@@@@@@@@@@@@@@@@@@\n",
    "match_graph_stateP2L1 = abs(matmul( match_graph_stateLtoP.T.conj(), R( np.pi, -np.pi/2 , 2,4 ,dimension).matrix.T.conj()) ) \n",
    "#@@@@@@@@@@@@@@@@@@@@@@@@@@@@@@@@@@@@@@@@@@@@@@@@@@@@@@@@@@@@@@@@@@@@@@@@@\n",
    "\n",
    "z = matmul( Rz(np.pi, 4, dimension).matrix, z)\n",
    "\n",
    "#@@@@@@@@@@@@@@@@@@@@@@@@@@@@@@@@@@@@@@@@@@@@@@@@@@@@@@@@@@@@@@@@@@@@@@@@@@\n",
    "\n",
    "z = matmul( match_graph_stateP2L1, z)\n",
    "\n",
    "\n",
    "print(z.round(3))\n",
    "print()\n",
    "print(zl.round(3))\n",
    "print()\n",
    "print( (np.abs(z- zl) < 1e-6).all() )\n",
    "\n"
   ]
  },
  {
   "cell_type": "code",
   "execution_count": 85,
   "metadata": {},
   "outputs": [
    {
     "data": {
      "text/plain": [
       "array([[ 0.77-0.j  ,  0.13+0.4j ,  0.13-0.09j,  0.13+0.09j,  0.13-0.4j ],\n",
       "       [ 0.  -0.j  , -0.22+0.3j , -0.57+0.19j, -0.57-0.19j, -0.22-0.3j ],\n",
       "       [ 0.  -0.j  , -0.53+0.04j,  0.08-0.45j,  0.08+0.45j, -0.53-0.04j],\n",
       "       [ 0.45+0.j  , -0.36-0.26j,  0.14+0.43j,  0.14-0.43j, -0.36+0.26j],\n",
       "       [ 0.45+0.j  ,  0.14-0.43j, -0.36-0.26j, -0.36+0.26j,  0.14+0.43j]])"
      ]
     },
     "execution_count": 85,
     "metadata": {},
     "output_type": "execute_result"
    }
   ],
   "source": [
    "zl = matmul( R( np.pi/2, -np.pi/2 , 0,1 ,dimension).matrix , H1.matrix)\n",
    "zl = matmul( R( 1.23, -np.pi/2 , 0,2 ,dimension).matrix , zl)\n",
    "zl.round(2)"
   ]
  },
  {
   "cell_type": "code",
   "execution_count": 86,
   "metadata": {},
   "outputs": [
    {
     "name": "stdout",
     "output_type": "stream",
     "text": [
      "[[ 0.775+0.j     0.129+0.397j  0.129-0.094j  0.129+0.094j  0.129-0.397j]\n",
      " [ 0.   +0.j    -0.219+0.301j -0.572+0.186j -0.572-0.186j -0.219-0.301j]\n",
      " [ 0.   +0.j    -0.534+0.041j  0.078-0.455j  0.078+0.455j -0.534-0.041j]\n",
      " [ 0.447-0.j    -0.362-0.263j  0.138+0.425j  0.138-0.425j -0.362+0.263j]\n",
      " [ 0.447+0.j     0.138-0.425j -0.362-0.263j -0.362+0.263j  0.138+0.425j]]\n",
      "\n",
      "[[ 0.775-0.j     0.129+0.397j  0.129-0.094j  0.129+0.094j  0.129-0.397j]\n",
      " [ 0.   -0.j    -0.219+0.301j -0.572+0.186j -0.572-0.186j -0.219-0.301j]\n",
      " [ 0.   -0.j    -0.534+0.041j  0.078-0.455j  0.078+0.455j -0.534-0.041j]\n",
      " [ 0.447+0.j    -0.362-0.263j  0.138+0.425j  0.138-0.425j -0.362+0.263j]\n",
      " [ 0.447+0.j     0.138-0.425j -0.362-0.263j -0.362+0.263j  0.138+0.425j]]\n",
      "\n",
      "True\n"
     ]
    }
   ],
   "source": [
    "match_graph_stateLtoP = get_perm_matrix( dimension, nodes, nmap)\n",
    "\n",
    "z = matmul( match_graph_stateLtoP , target)\n",
    "\n",
    "#logical 01 \n",
    "\n",
    "z = matmul( R( np.pi, -np.pi/2 , 2,4 ,dimension).matrix, z)\n",
    "\n",
    "z = matmul( R( -np.pi/2, -np.pi/2  , 3, 4 ,dimension).matrix, z) #t flip\n",
    "#---\n",
    "#logical 02\n",
    "z = matmul( R( np.pi, -np.pi/2 , 1,2 ,dimension).matrix, z)\n",
    "z = matmul( R( -np.pi, -np.pi/2 +np.pi , 2,4 ,dimension).matrix, z)# t flip\n",
    "\n",
    "z = matmul( R( -1.23, -np.pi/2 +np.pi, 3,4 ,dimension).matrix, z)# t flip\n",
    "\n",
    "#@@@@@@@@@@@@@@@@@@@@@@@@@@@@@@@@@@@@@@@@@@@@@@@@@@@@@@@@@@@@@@@@@@@@@@@@@\n",
    "\n",
    "fixer = abs(matmul( match_graph_stateP2L1 , R( np.pi, -np.pi/2 , 1,2 ,dimension).matrix.T.conj()) )\n",
    "\n",
    "match_graph_stateP2L2 = abs(matmul(fixer,  R( -np.pi, -np.pi/2 +np.pi, 2,4 ,dimension).matrix.T.conj() ) )\n",
    "#@@@@@@@@@@@@@@@@@@@@@@@@@@@@@@@@@@@@@@@@@@@@@@@@@@@@@@@@@@@@@@@@@@@@@@@@@\n",
    "\n",
    "z = matmul( Rz(np.pi, 2, dimension).matrix, z)\n",
    "\n",
    "#@@@@@@@@@@@@@@@@@@@@@@@@@@@@@@@@@@@@@@@@@@@@@@@@@@@@@@@@@@@@@@@@@@@@@@@@@@\n",
    "\n",
    "z = matmul( match_graph_stateP2L2, z)\n",
    "\n",
    "\n",
    "print(z.round(3))\n",
    "print()\n",
    "print(zl.round(3))\n",
    "print()\n",
    "print( (np.abs(z- zl) < 1e-6).all() )\n",
    "\n"
   ]
  },
  {
   "cell_type": "code",
   "execution_count": 87,
   "metadata": {},
   "outputs": [
    {
     "data": {
      "text/plain": [
       "array([[ 0.89-0.j  , -0.07+0.21j,  0.18+0.13j,  0.18-0.13j, -0.07-0.21j],\n",
       "       [ 0.  -0.j  , -0.22+0.3j , -0.57+0.19j, -0.57-0.19j, -0.22-0.3j ],\n",
       "       [ 0.  -0.j  , -0.53+0.04j,  0.08-0.45j,  0.08+0.45j, -0.53-0.04j],\n",
       "       [ 0.  -0.j  , -0.38-0.43j,  0.06+0.42j,  0.06-0.42j, -0.38+0.43j],\n",
       "       [ 0.45+0.j  ,  0.14-0.43j, -0.36-0.26j, -0.36+0.26j,  0.14+0.43j]])"
      ]
     },
     "execution_count": 87,
     "metadata": {},
     "output_type": "execute_result"
    }
   ],
   "source": [
    "zl = matmul( R( np.pi/2, -np.pi/2 , 0,1 ,dimension).matrix , H1.matrix)\n",
    "zl = matmul( R( 1.23, -np.pi/2 , 0,2 ,dimension).matrix , zl)\n",
    "zl = matmul( R( 1.04, -np.pi/2 , 0,3 ,dimension).matrix , zl)\n",
    "\n",
    "zl.round(2)"
   ]
  },
  {
   "cell_type": "code",
   "execution_count": 92,
   "metadata": {},
   "outputs": [
    {
     "name": "stdout",
     "output_type": "stream",
     "text": [
      "[[ 0.894+0.j    -0.068+0.214j  0.181+0.13j   0.181-0.13j  -0.068-0.214j]\n",
      " [ 0.   +0.j    -0.219+0.301j -0.572+0.186j -0.572-0.186j -0.219-0.301j]\n",
      " [ 0.   +0.j    -0.534+0.041j  0.078-0.455j  0.078+0.455j -0.534-0.041j]\n",
      " [ 0.003-0.j    -0.378-0.426j  0.056+0.416j  0.056-0.416j -0.378+0.426j]\n",
      " [ 0.447+0.j     0.138-0.425j -0.362-0.263j -0.362+0.263j  0.138+0.425j]]\n",
      "\n",
      "[[ 0.894-0.j    -0.068+0.214j  0.181+0.13j   0.181-0.13j  -0.068-0.214j]\n",
      " [ 0.   -0.j    -0.219+0.301j -0.572+0.186j -0.572-0.186j -0.219-0.301j]\n",
      " [ 0.   -0.j    -0.534+0.041j  0.078-0.455j  0.078+0.455j -0.534-0.041j]\n",
      " [ 0.003-0.j    -0.378-0.426j  0.056+0.416j  0.056-0.416j -0.378+0.426j]\n",
      " [ 0.447+0.j     0.138-0.425j -0.362-0.263j -0.362+0.263j  0.138+0.425j]]\n",
      "\n",
      "True\n"
     ]
    }
   ],
   "source": [
    "match_graph_stateLtoP = get_perm_matrix( dimension, nodes, nmap)\n",
    "\n",
    "z = matmul( match_graph_stateLtoP , target)\n",
    "\n",
    "#logical 01 \n",
    "\n",
    "z = matmul( R( np.pi, -np.pi/2 , 2,4 ,dimension).matrix, z)\n",
    "\n",
    "z = matmul( R( -np.pi/2, -np.pi/2  , 3, 4 ,dimension).matrix, z) #t flip\n",
    "#---\n",
    "#logical 02\n",
    "z = matmul( R( np.pi, -np.pi/2 , 1,2 ,dimension).matrix, z)\n",
    "z = matmul( R( -np.pi, -np.pi/2 +np.pi , 2,4 ,dimension).matrix, z)# t flip\n",
    "\n",
    "z = matmul( R( -1.23, -np.pi/2 +np.pi, 3,4 ,dimension).matrix, z)# t flip\n",
    "\n",
    "#---\n",
    "#logical 03\n",
    "z = matmul( R( np.pi, -np.pi/2 +np.pi, 1,2 ,dimension).matrix, z)\n",
    "z = matmul( R( -np.pi, -np.pi/2 -np.pi, 2,4 ,dimension).matrix, z)# t flip\n",
    "\n",
    "z = matmul( R( -1.04, -np.pi/2, 3,4 ,dimension).matrix, z)# t flip\n",
    "\n",
    "\n",
    "#@@@@@@@@@@@@@@@@@@@@@@@@@@@@@@@@@@@@@@@@@@@@@@@@@@@@@@@@@@@@@@@@@@@@@@@@@\n",
    "f = abs( matmul( R( np.pi, -np.pi/2 +np.pi, 1,2 ,dimension).matrix.T.conj(), R( -np.pi, -np.pi/2 -np.pi, 2,4 ,dimension).matrix.T.conj() ))\n",
    "\n",
    "match_graph_stateP2L3 = abs( matmul(  match_graph_stateP2L2  , f  ) )\n",
    "#@@@@@@@@@@@@@@@@@@@@@@@@@@@@@@@@@@@@@@@@@@@@@@@@@@@@@@@@@@@@@@@@@@@@@@@@@\n",
    "\n",
    "z = matmul( Rz(np.pi, 4, dimension).matrix, z)\n",
    "#@@@@@@@@@@@@@@@@@@@@@@@@@@@@@@@@@@@@@@@@@@@@@@@@@@@@@@@@@@@@@@@@@@@@@@@@@@\n",
    "\n",
    "z = matmul( match_graph_stateP2L3, z)\n",
    "\n",
    "\n",
    "print(z.round(3))\n",
    "print()\n",
    "print(zl.round(3))\n",
    "print()\n",
    "print( (np.abs(z - zl) < 1e-6).all() )\n",
    "\n"
   ]
  },
  {
   "cell_type": "code",
   "execution_count": 93,
   "metadata": {},
   "outputs": [
    {
     "data": {
      "text/plain": [
       "array([[ 1.  -0.j  ,  0.  +0.j  , -0.  -0.j  , -0.  +0.j  ,  0.  -0.j  ],\n",
       "       [ 0.  -0.j  , -0.22+0.3j , -0.57+0.19j, -0.57-0.19j, -0.22-0.3j ],\n",
       "       [ 0.  -0.j  , -0.53+0.04j,  0.08-0.45j,  0.08+0.45j, -0.53-0.04j],\n",
       "       [ 0.  -0.j  , -0.38-0.43j,  0.06+0.42j,  0.06-0.42j, -0.38+0.43j],\n",
       "       [ 0.  -0.j  ,  0.15-0.48j, -0.4 -0.29j, -0.4 +0.29j,  0.15+0.48j]])"
      ]
     },
     "execution_count": 93,
     "metadata": {},
     "output_type": "execute_result"
    }
   ],
   "source": [
    "zl = matmul( R( np.pi/2, -np.pi/2 , 0,1 ,dimension).matrix , H1.matrix)\n",
    "zl = matmul( R( 1.23, -np.pi/2 , 0,2 ,dimension).matrix , zl)\n",
    "zl = matmul( R( 1.04, -np.pi/2 , 0,3 ,dimension).matrix , zl)\n",
    "zl = matmul( R( 0.9272952180016122, -np.pi/2 , 0,4 ,dimension).matrix , zl)\n",
    "\n",
    "zl.round(2)"
   ]
  },
  {
   "cell_type": "code",
   "execution_count": 95,
   "metadata": {},
   "outputs": [
    {
     "name": "stdout",
     "output_type": "stream",
     "text": [
      "[[ 1.   +0.j     0.001+0.001j -0.   -0.001j -0.   +0.001j  0.001-0.001j]\n",
      " [ 0.   +0.j    -0.219+0.301j -0.572+0.186j -0.572-0.186j -0.219-0.301j]\n",
      " [ 0.   +0.j    -0.534+0.041j  0.078-0.455j  0.078+0.455j -0.534-0.041j]\n",
      " [ 0.003-0.j    -0.378-0.426j  0.056+0.416j  0.056-0.416j -0.378+0.426j]\n",
      " [ 0.   -0.j     0.154-0.476j -0.404-0.293j -0.404+0.293j  0.154+0.476j]]\n",
      "\n",
      "[[ 1.   -0.j     0.001+0.001j -0.   -0.001j -0.   +0.001j  0.001-0.001j]\n",
      " [ 0.   -0.j    -0.219+0.301j -0.572+0.186j -0.572-0.186j -0.219-0.301j]\n",
      " [ 0.   -0.j    -0.534+0.041j  0.078-0.455j  0.078+0.455j -0.534-0.041j]\n",
      " [ 0.003-0.j    -0.378-0.426j  0.056+0.416j  0.056-0.416j -0.378+0.426j]\n",
      " [ 0.   -0.j     0.154-0.476j -0.404-0.293j -0.404+0.293j  0.154+0.476j]]\n",
      "\n",
      "True\n"
     ]
    }
   ],
   "source": [
    "match_graph_stateLtoP = get_perm_matrix( dimension, nodes, nmap)\n",
    "\n",
    "z = matmul( match_graph_stateLtoP , target)\n",
    "\n",
    "#logical 01 \n",
    "\n",
    "z = matmul( R( np.pi, -np.pi/2 , 2,4 ,dimension).matrix, z)\n",
    "\n",
    "z = matmul( R( -np.pi/2, -np.pi/2  , 3, 4 ,dimension).matrix, z) #t flip\n",
    "#---\n",
    "#logical 02\n",
    "z = matmul( R( np.pi, -np.pi/2 , 1,2 ,dimension).matrix, z)\n",
    "z = matmul( R( -np.pi, -np.pi/2 +np.pi , 2,4 ,dimension).matrix, z)# t flip\n",
    "\n",
    "z = matmul( R( -1.23, -np.pi/2 +np.pi, 3,4 ,dimension).matrix, z)# t flip\n",
    "\n",
    "#---\n",
    "#logical 03\n",
    "z = matmul( R( np.pi, -np.pi/2 +np.pi, 1,2 ,dimension).matrix, z)\n",
    "z = matmul( R( -np.pi, -np.pi/2 -np.pi, 2,4 ,dimension).matrix, z)# t flip\n",
    "\n",
    "z = matmul( R( -1.04, -np.pi/2, 3,4 ,dimension).matrix, z)# t flip\n",
    "#---\n",
    "#logical 04\n",
    "z = matmul( R( np.pi, -np.pi/2 +np.pi, 0,4 ,dimension).matrix, z) # pi and pi/2\n",
    "\n",
    "z = matmul( R( -0.92729521, -np.pi/2 +np.pi, 3,4 ,dimension).matrix, z)# t flip\n",
    "\n",
    "\n",
    "#@@@@@@@@@@@@@@@@@@@@@@@@@@@@@@@@@@@@@@@@@@@@@@@@@@@@@@@@@@@@@@@@@@@@@@@@@\n",
    "\n",
    "match_graph_stateP2L4 = abs( matmul(  match_graph_stateP2L3, R( np.pi, -np.pi/2 +np.pi, 0,4 ,dimension).matrix.T.conj()) )\n",
    "#@@@@@@@@@@@@@@@@@@@@@@@@@@@@@@@@@@@@@@@@@@@@@@@@@@@@@@@@@@@@@@@@@@@@@@@@@\n",
    "\n",
    "#z = matmul( Rz(np.pi, 4, dimension).matrix, z)\n",
    "#@@@@@@@@@@@@@@@@@@@@@@@@@@@@@@@@@@@@@@@@@@@@@@@@@@@@@@@@@@@@@@@@@@@@@@@@@@\n",
    "\n",
    "z = matmul( match_graph_stateP2L4, z)\n",
    "\n",
    "\n",
    "print(z.round(3))\n",
    "print()\n",
    "print(zl.round(3))\n",
    "print()\n",
    "print( (np.abs(z - zl) < 1e-6).all() )\n",
    "\n"
   ]
  },
  {
   "cell_type": "code",
   "execution_count": null,
   "metadata": {},
   "outputs": [],
   "source": []
  },
  {
   "cell_type": "code",
   "execution_count": 5,
   "metadata": {},
   "outputs": [
    {
     "name": "stdout",
     "output_type": "stream",
     "text": [
      "-2.7168146928204138\n",
      "-2.2831853071795862\n",
      "-0.8495559215387587\n",
      "-0.28318530717958623\n",
      "1.7168146928204138\n"
     ]
    }
   ],
   "source": [
    "import numpy as np\n",
    "def newMod(a, b=2 * np.pi):\n",
    "    res = np.mod(a, b)\n",
    "    return res if not res else res - b if a < 0 else res\n",
    "\n",
    "def Pi_mod(a):\n",
    "    a = newMod(a)\n",
    "\n",
    "    if (a > 0 and a > np.pi):\n",
    "        a = a - 2 * np.pi\n",
    "    elif (a < 0 and abs(a) > np.pi):\n",
    "        a = 2 * np.pi + a\n",
    "    return a\n",
    "\n",
    "\n",
    "print(Pi_mod(-9))\n",
    "print(Pi_mod(4))\n",
    "print(Pi_mod(18))\n",
    "print(Pi_mod(6))\n",
    "print(Pi_mod(8))\n",
    "\n"
   ]
  },
  {
   "cell_type": "code",
   "execution_count": null,
   "metadata": {},
   "outputs": [],
   "source": []
  }
 ],
 "metadata": {
  "kernelspec": {
   "display_name": "Python 3",
   "language": "python",
   "name": "python3"
  },
  "language_info": {
   "codemirror_mode": {
    "name": "ipython",
    "version": 3
   },
   "file_extension": ".py",
   "mimetype": "text/x-python",
   "name": "python",
   "nbconvert_exporter": "python",
   "pygments_lexer": "ipython3",
   "version": "3.8.10"
  }
 },
 "nbformat": 4,
 "nbformat_minor": 4
}
