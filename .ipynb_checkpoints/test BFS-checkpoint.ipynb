{
 "cells": [
  {
   "cell_type": "code",
   "execution_count": 1,
   "metadata": {},
   "outputs": [],
   "source": [
    "from my_tree import *\n",
    "from random import *\n",
    "import sympy\n",
    "import numpy as np\n",
    "import networkx as nx\n",
    "\n",
    "from matplotlib import pyplot as plt\n",
    "%matplotlib inline"
   ]
  },
  {
   "cell_type": "code",
   "execution_count": 2,
   "metadata": {},
   "outputs": [],
   "source": [
    "from algorithm import algorithm\n",
    "from BFS import *\n",
    "import Rotations\n",
    "from placement import *\n",
    "from r_utils import *"
   ]
  },
  {
   "cell_type": "code",
   "execution_count": 5,
   "metadata": {},
   "outputs": [
    {
     "name": "stdout",
     "output_type": "stream",
     "text": [
      "[0, 1, 2, 3, 4, 5]\n",
      "[(0, 5), (0, 4), (0, 3), (0, 2), (1, 5), (1, 4), (1, 3), (1, 2)]\n"
     ]
    },
    {
     "data": {
      "image/png": "[encoded data removed]",
      "text/plain": [
       "<Figure size 432x288 with 1 Axes>"
      ]
     },
     "metadata": {},
     "output_type": "display_data"
    }
   ],
   "source": [
    "dimension = 6\n",
    "edges = [(0,5, {\"delta_m\":0, \"sensitivity\": 1}),\n",
    "         (0,4, {\"delta_m\":0, \"sensitivity\": 1}),\n",
    "         (0,3, {\"delta_m\":1, \"sensitivity\": 3}),\n",
    "         (0,2, {\"delta_m\":1, \"sensitivity\": 3}),\n",
    "         (1,5, {\"delta_m\":0, \"sensitivity\": 1}),\n",
    "         (1,4, {\"delta_m\":0, \"sensitivity\": 1}),\n",
    "         (1,3, {\"delta_m\":1, \"sensitivity\": 3}),\n",
    "         (1,2, {\"delta_m\":1, \"sensitivity\": 3})\n",
    "         ] \n",
    "\n",
    "i_placement = level_Graph(edges, range(dimension))\n",
    "print(i_placement.nodes)\n",
    "print(i_placement.edges)\n",
    "\n",
    "define__states(i_placement,[0,1],[2,3,4,5])\n",
    "nx.draw(i_placement, with_labels = True)"
   ]
  },
  {
   "cell_type": "code",
   "execution_count": 6,
   "metadata": {},
   "outputs": [
    {
     "name": "stdout",
     "output_type": "stream",
     "text": [
      "[(0, {'level': 'S'}), (1, {'level': 'S'}), (2, {'level': 'D'}), (3, {'level': 'D'}), (4, {'level': 'D'}), (5, {'level': 'D'})]\n",
      "0 S\n",
      "1 S\n",
      "2 D\n",
      "3 D\n",
      "4 D\n",
      "5 D\n",
      "S\n"
     ]
    }
   ],
   "source": [
    "print(i_placement.nodes(data=True))\n",
    "#i_placement[0]['level']\n",
    "for n1, attr in i_placement.nodes(data=True):\n",
    "    print(n1,attr['level'])\n",
    "print(i_placement.nodes[0]['level'])"
   ]
  },
  {
   "cell_type": "code",
   "execution_count": 7,
   "metadata": {},
   "outputs": [],
   "source": [
    "def get_sensibility_cost(G, node_a, node_b):\n",
    "    path = nx.shortest_path(G, source = node_a, target = node_b)\n",
    "    \n",
    "    totalsensibility = 0\n",
    "    for i in range(len(path)-1):\n",
    "        totalsensibility += G[path[i]][path[i+1]][\"sensitivity\"]\n",
    "        \n",
    "    return totalsensibility"
   ]
  },
  {
   "cell_type": "code",
   "execution_count": 8,
   "metadata": {},
   "outputs": [
    {
     "data": {
      "text/plain": [
       "4"
      ]
     },
     "execution_count": 8,
     "metadata": {},
     "output_type": "execute_result"
    }
   ],
   "source": [
    "get_sensibility_cost(i_placement , 2, 4)"
   ]
  },
  {
   "cell_type": "code",
   "execution_count": 9,
   "metadata": {},
   "outputs": [],
   "source": [
    "\n",
    "def update_list(lst, num_a, num_b):\n",
    "    new_lst = []\n",
    "\n",
    "    mod_index =[]\n",
    "    for i, t in enumerate(lst):\n",
    "        \n",
    "        tupla =[0,0]\n",
    "        if(t[0] == num_a):\n",
    "            tupla[0] = 1\n",
    "        elif(t[0]==num_b):\n",
    "            tupla[0] = 2\n",
    "            \n",
    "        if (t[1] == num_a):\n",
    "            tupla[1] = 1\n",
    "        elif (t[1] == num_b):\n",
    "            tupla[1] = 2\n",
    "\n",
    "        mod_index.append(tupla)\n",
    "\n",
    "    for i, t in enumerate(lst):\n",
    "        substituter = list(t)\n",
    "        \n",
    "        if(mod_index[i][0]== 1):\n",
    "            substituter[0] = num_b\n",
    "        elif(mod_index[i][0]== 2):\n",
    "            substituter[0] = num_a\n",
    "        \n",
    "        if(mod_index[i][1]== 1):\n",
    "            substituter[1] = num_b\n",
    "        elif(mod_index[i][1]== 2):\n",
    "            substituter[1] = num_a\n",
    "            \n",
    "        new_lst.append( tuple(substituter) )\n",
    "    \n",
    "    return new_lst \n",
    "\n",
    "def swap_nodes(G, node_a, node_b):\n",
    "    edges = list(G.edges)\n",
    "    nodes = G.nodes(data=True)\n",
    "\n",
    "    attribute_list = []\n",
    "    for e in edges:\n",
    "        attribute_list.append(G.get_edge_data(*e))\n",
    "\n",
    "    swapped_nodes_edges = update_list(edges, node_a, node_b)\n",
    "\n",
    "    new_edge_list = []\n",
    "    for i, e in enumerate(swapped_nodes_edges):\n",
    "        new_edge_list.append((*e, attribute_list[i]))\n",
    "\n",
    "    level_a = G.nodes[node_a][\"level\"]\n",
    "    level_b = G.nodes[node_b][\"level\"]\n",
    "    G.nodes[node_a][\"level\"] = level_b\n",
    "    G.nodes[node_b][\"level\"] = level_a\n",
    "\n",
    "    return level_Graph(new_edge_list, nodes)\n"
   ]
  },
  {
   "cell_type": "code",
   "execution_count": 10,
   "metadata": {},
   "outputs": [
    {
     "name": "stdout",
     "output_type": "stream",
     "text": [
      "[(0, 5), (0, 4), (0, 3), (0, 2), (1, 5), (1, 4), (1, 3), (1, 2)]\n",
      "[(0, 5), (0, 1), (0, 3), (0, 2), (1, 4), (2, 4), (3, 4), (4, 5)]\n"
     ]
    }
   ],
   "source": [
    "print(i_placement.edges)\n",
    "i_placement = swap_nodes(i_placement , 1, 4)\n",
    "print(i_placement.edges)"
   ]
  },
  {
   "cell_type": "code",
   "execution_count": 11,
   "metadata": {},
   "outputs": [
    {
     "name": "stdout",
     "output_type": "stream",
     "text": [
      "[0, 1, 2, 3, 4, 5]\n"
     ]
    },
    {
     "data": {
      "image/png": "[encoded data removed]",
      "text/plain": [
       "<Figure size 432x288 with 1 Axes>"
      ]
     },
     "metadata": {},
     "output_type": "display_data"
    }
   ],
   "source": [
    "print(i_placement.nodes)\n",
    "\n",
    "nx.draw(i_placement, with_labels=True)"
   ]
  },
  {
   "cell_type": "code",
   "execution_count": 12,
   "metadata": {},
   "outputs": [
    {
     "name": "stdout",
     "output_type": "stream",
     "text": [
      "[(0, {'level': 'S'}), (1, {'level': 'D'}), (2, {'level': 'D'}), (3, {'level': 'D'}), (4, {'level': 'S'}), (5, {'level': 'D'})]\n"
     ]
    }
   ],
   "source": [
    "print(i_placement.nodes(data=True))"
   ]
  },
  {
   "cell_type": "code",
   "execution_count": 4,
   "metadata": {},
   "outputs": [],
   "source": [
    "R1 = Rotations.R(np.pi/5,np.pi/5,0,5,6)\n",
    "R2 = Rotations.R(np.pi/5,np.pi/5,1,5,6)\n",
    "R3 = Rotations.R(np.pi/5,np.pi/5,1,2,6)"
   ]
  },
  {
   "cell_type": "code",
   "execution_count": 5,
   "metadata": {},
   "outputs": [
    {
     "name": "stdout",
     "output_type": "stream",
     "text": [
      "[[ 0.95105652+0.j          0.        +0.j          0.        +0.j\n",
      "   0.        +0.j          0.        +0.j          0.25      -0.18163563j]\n",
      " [ 0.        +0.j          1.        +0.j          0.        +0.j\n",
      "   0.        +0.j          0.        +0.j          0.        +0.j        ]\n",
      " [ 0.        +0.j          0.        +0.j          1.        +0.j\n",
      "   0.        +0.j          0.        +0.j          0.        +0.j        ]\n",
      " [ 0.        +0.j          0.        +0.j          0.        +0.j\n",
      "   1.        +0.j          0.        +0.j          0.        +0.j        ]\n",
      " [ 0.        +0.j          0.        +0.j          0.        +0.j\n",
      "   0.        +0.j          1.        +0.j          0.        +0.j        ]\n",
      " [-0.25      -0.18163563j  0.        +0.j          0.        +0.j\n",
      "   0.        +0.j          0.        +0.j          0.95105652+0.j        ]]\n",
      "########\n",
      "[[ 1.        +0.j          0.        +0.j          0.        +0.j\n",
      "   0.        +0.j          0.        +0.j          0.        +0.j        ]\n",
      " [ 0.        +0.j          0.95105652+0.j          0.        +0.j\n",
      "   0.        +0.j          0.        +0.j          0.25      -0.18163563j]\n",
      " [ 0.        +0.j          0.        +0.j          1.        +0.j\n",
      "   0.        +0.j          0.        +0.j          0.        +0.j        ]\n",
      " [ 0.        +0.j          0.        +0.j          0.        +0.j\n",
      "   1.        +0.j          0.        +0.j          0.        +0.j        ]\n",
      " [ 0.        +0.j          0.        +0.j          0.        +0.j\n",
      "   0.        +0.j          1.        +0.j          0.        +0.j        ]\n",
      " [ 0.        +0.j         -0.25      -0.18163563j  0.        +0.j\n",
      "   0.        +0.j          0.        +0.j          0.95105652+0.j        ]]\n",
      "########\n",
      "[[ 1.        +0.j          0.        +0.j          0.        +0.j\n",
      "   0.        +0.j          0.        +0.j          0.        +0.j        ]\n",
      " [ 0.        +0.j          0.95105652+0.j          0.25      -0.18163563j\n",
      "   0.        +0.j          0.        +0.j          0.        +0.j        ]\n",
      " [ 0.        +0.j         -0.25      -0.18163563j  0.95105652+0.j\n",
      "   0.        +0.j          0.        +0.j          0.        +0.j        ]\n",
      " [ 0.        +0.j          0.        +0.j          0.        +0.j\n",
      "   1.        +0.j          0.        +0.j          0.        +0.j        ]\n",
      " [ 0.        +0.j          0.        +0.j          0.        +0.j\n",
      "   0.        +0.j          1.        +0.j          0.        +0.j        ]\n",
      " [ 0.        +0.j          0.        +0.j          0.        +0.j\n",
      "   0.        +0.j          0.        +0.j          1.        +0.j        ]]\n",
      "########\n"
     ]
    }
   ],
   "source": [
    "print(R1)\n",
    "print(\"########\")\n",
    "print(R2)\n",
    "print(\"########\")\n",
    "print(R3)\n",
    "print(\"########\")"
   ]
  },
  {
   "cell_type": "code",
   "execution_count": 6,
   "metadata": {},
   "outputs": [],
   "source": [
    "Homemade = matmul(R3.dag ,R2.dag)\n",
    "Homemade = matmul(Homemade.conj().T, R1.dag)"
   ]
  },
  {
   "cell_type": "code",
   "execution_count": 9,
   "metadata": {},
   "outputs": [
    {
     "name": "stdout",
     "output_type": "stream",
     "text": [
      "[[ 0.95105652+0.j          0.        +0.j          0.        +0.j\n",
      "   0.        +0.j          0.        +0.j         -0.25      +0.18163563j]\n",
      " [ 0.0954915 +0.j          0.9045085 +0.j          0.23776413-0.17274575j\n",
      "   0.        +0.j          0.        +0.j          0.23776413-0.17274575j]\n",
      " [ 0.        +0.j         -0.25      -0.18163563j  0.95105652+0.j\n",
      "   0.        +0.j          0.        +0.j          0.        +0.j        ]\n",
      " [ 0.        +0.j          0.        +0.j          0.        +0.j\n",
      "   1.        +0.j          0.        +0.j          0.        +0.j        ]\n",
      " [ 0.        +0.j          0.        +0.j          0.        +0.j\n",
      "   0.        +0.j          1.        +0.j          0.        +0.j        ]\n",
      " [ 0.23776413+0.17274575j -0.23776413-0.17274575j -0.0954915 +0.j\n",
      "   0.        +0.j          0.        +0.j          0.9045085 +0.j        ]]\n"
     ]
    }
   ],
   "source": [
    "print(str(Homemade))\n",
    "U = Rotations.custom_Unitary(Homemade, dimension)"
   ]
  },
  {
   "cell_type": "code",
   "execution_count": 8,
   "metadata": {
    "scrolled": false
   },
   "outputs": [
    {
     "name": "stdout",
     "output_type": "stream",
     "text": [
      "dimension is 6\n",
      "=======================================================\n",
      " r is 1\n",
      " c is 0\n",
      "=======================================================\n",
      "0.2001406547348498\n",
      "-0.0\n",
      "[[ 0.9511+0.j      0.    +0.j      0.    +0.j      0.    +0.j\n",
      "   0.    +0.j     -0.25  +0.1816j]\n",
      " [ 0.0955+0.j      0.9045+0.j      0.2378-0.1727j  0.    +0.j\n",
      "   0.    +0.j      0.2378-0.1727j]\n",
      " [ 0.    +0.j     -0.25  -0.1816j  0.9511+0.j      0.    +0.j\n",
      "   0.    +0.j      0.    +0.j    ]\n",
      " [ 0.    +0.j      0.    +0.j      0.    +0.j      1.    +0.j\n",
      "   0.    +0.j      0.    +0.j    ]\n",
      " [ 0.    +0.j      0.    +0.j      0.    +0.j      0.    +0.j\n",
      "   1.    +0.j      0.    +0.j    ]\n",
      " [ 0.2378+0.1727j -0.2378-0.1727j -0.0955+0.j      0.    +0.j\n",
      "   0.    +0.j      0.9045+0.j    ]]\n",
      "---\n",
      "[[ 0.9558+0.j      0.0904+0.j      0.0238-0.0173j  0.    +0.j\n",
      "   0.    +0.j     -0.225 +0.1635j]\n",
      " [ 0.    +0.j      0.9   +0.j      0.2366-0.1719j  0.    +0.j\n",
      "   0.    +0.j      0.2616-0.19j  ]\n",
      " [ 0.    +0.j     -0.25  -0.1816j  0.9511+0.j      0.    +0.j\n",
      "   0.    +0.j      0.    +0.j    ]\n",
      " [ 0.    +0.j      0.    +0.j      0.    +0.j      1.    +0.j\n",
      "   0.    +0.j      0.    +0.j    ]\n",
      " [ 0.    +0.j      0.    +0.j      0.    +0.j      0.    +0.j\n",
      "   1.    +0.j      0.    +0.j    ]\n",
      " [ 0.2378+0.1727j -0.2378-0.1727j -0.0955+0.j      0.    +0.j\n",
      "   0.    +0.j      0.9045+0.j    ]]\n",
      "@@@@@@@\n",
      "[[ 0.995 +0.j  0.0999+0.j  0.    +0.j  0.    +0.j  0.    +0.j  0.    +0.j]\n",
      " [-0.0999+0.j  0.995 +0.j  0.    +0.j  0.    +0.j  0.    +0.j  0.    +0.j]\n",
      " [ 0.    +0.j  0.    +0.j  1.    +0.j  0.    +0.j  0.    +0.j  0.    +0.j]\n",
      " [ 0.    +0.j  0.    +0.j  0.    +0.j  1.    +0.j  0.    +0.j  0.    +0.j]\n",
      " [ 0.    +0.j  0.    +0.j  0.    +0.j  0.    +0.j  1.    +0.j  0.    +0.j]\n",
      " [ 0.    +0.j  0.    +0.j  0.    +0.j  0.    +0.j  0.    +0.j  1.    +0.j]]\n",
      "\n",
      "non-zeros:   15\n",
      "estimated_cost :   0.2495560123544099\n",
      "=======================================================\n",
      " r is 2\n",
      " c is 1\n",
      "=======================================================\n",
      "0.66149192270766\n",
      "-2.5132741228718345\n",
      "[[ 0.9558+0.j      0.0904+0.j      0.0238-0.0173j  0.    +0.j\n",
      "   0.    +0.j     -0.225 +0.1635j]\n",
      " [ 0.    +0.j      0.9   +0.j      0.2366-0.1719j  0.    +0.j\n",
      "   0.    +0.j      0.2616-0.19j  ]\n",
      " [ 0.    +0.j     -0.25  -0.1816j  0.9511+0.j      0.    +0.j\n",
      "   0.    +0.j      0.    +0.j    ]\n",
      " [ 0.    +0.j      0.    +0.j      0.    +0.j      1.    +0.j\n",
      "   0.    +0.j      0.    +0.j    ]\n",
      " [ 0.    +0.j      0.    +0.j      0.    +0.j      0.    +0.j\n",
      "   1.    +0.j      0.    +0.j    ]\n",
      " [ 0.2378+0.1727j -0.2378-0.1727j -0.0955+0.j      0.    +0.j\n",
      "   0.    +0.j      0.9045+0.j    ]]\n",
      "---\n",
      "[[ 0.9558+0.j      0.0904+0.j      0.0238-0.0173j  0.    +0.j\n",
      "   0.    +0.j     -0.225 +0.1635j]\n",
      " [ 0.    +0.j      0.9516-0.j     -0.0261+0.019j   0.    +0.j\n",
      "   0.    +0.j      0.2474-0.1797j]\n",
      " [ 0.    +0.j     -0.    +0.j      0.9945+0.j      0.    +0.j\n",
      "   0.    +0.j      0.105 +0.j    ]\n",
      " [ 0.    +0.j      0.    +0.j      0.    +0.j      1.    +0.j\n",
      "   0.    +0.j      0.    +0.j    ]\n",
      " [ 0.    +0.j      0.    +0.j      0.    +0.j      0.    +0.j\n",
      "   1.    +0.j      0.    +0.j    ]\n",
      " [ 0.2378+0.1727j -0.2378-0.1727j -0.0955+0.j      0.    +0.j\n",
      "   0.    +0.j      0.9045+0.j    ]]\n",
      "@@@@@@@\n",
      "[[ 1.    +0.j      0.    +0.j      0.    +0.j      0.    +0.j\n",
      "   0.    +0.j      0.    +0.j    ]\n",
      " [ 0.    +0.j      0.9458+0.j     -0.2627+0.1909j  0.    +0.j\n",
      "   0.    +0.j      0.    +0.j    ]\n",
      " [ 0.    +0.j      0.2627+0.1909j  0.9458+0.j      0.    +0.j\n",
      "   0.    +0.j      0.    +0.j    ]\n",
      " [ 0.    +0.j      0.    +0.j      0.    +0.j      1.    +0.j\n",
      "   0.    +0.j      0.    +0.j    ]\n",
      " [ 0.    +0.j      0.    +0.j      0.    +0.j      0.    +0.j\n",
      "   1.    +0.j      0.    +0.j    ]\n",
      " [ 0.    +0.j      0.    +0.j      0.    +0.j      0.    +0.j\n",
      "   0.    +0.j      1.    +0.j    ]]\n",
      "\n",
      "non-zeros:   15\n",
      "estimated_cost :   0.015791956397142908\n",
      "Extracting The Z gates in a standard way\n",
      "theta rotation :   -1.4584288005156217e-17\n",
      "U before phase rotation\n",
      "[[ 0.9558+0.j      0.0904+0.j      0.0238-0.0173j  0.    +0.j\n",
      "   0.    +0.j     -0.225 +0.1635j]\n",
      " [ 0.    +0.j      0.9516-0.j     -0.0261+0.019j   0.    +0.j\n",
      "   0.    +0.j      0.2474-0.1797j]\n",
      " [ 0.    +0.j     -0.    +0.j      0.9945+0.j      0.    +0.j\n",
      "   0.    +0.j      0.105 +0.j    ]\n",
      " [ 0.    +0.j      0.    +0.j      0.    +0.j      1.    +0.j\n",
      "   0.    +0.j      0.    +0.j    ]\n",
      " [ 0.    +0.j      0.    +0.j      0.    +0.j      0.    +0.j\n",
      "   1.    +0.j      0.    +0.j    ]\n",
      " [ 0.2378+0.1727j -0.2378-0.1727j -0.0955+0.j      0.    +0.j\n",
      "   0.    +0.j      0.9045+0.j    ]]\n",
      "---\n",
      "U after phase rotation\n",
      "[[ 0.9558+0.j      0.0904+0.j      0.0238-0.0173j  0.    +0.j\n",
      "   0.    +0.j     -0.225 +0.1635j]\n",
      " [ 0.    +0.j      0.9516-0.j     -0.0261+0.019j   0.    +0.j\n",
      "   0.    +0.j      0.2474-0.1797j]\n",
      " [ 0.    +0.j     -0.    +0.j      0.9945+0.j      0.    +0.j\n",
      "   0.    +0.j      0.105 +0.j    ]\n",
      " [ 0.    +0.j      0.    +0.j      0.    +0.j      1.    +0.j\n",
      "   0.    +0.j      0.    +0.j    ]\n",
      " [ 0.    +0.j      0.    +0.j      0.    +0.j      0.    +0.j\n",
      "   1.    +0.j      0.    +0.j    ]\n",
      " [ 0.2378+0.1727j -0.2378-0.1727j -0.0955+0.j      0.    +0.j\n",
      "   0.    +0.j      0.9045+0.j    ]]\n",
      "@@@@@@@\n",
      "[[1.+0.j 0.+0.j 0.+0.j 0.+0.j 0.+0.j 0.+0.j]\n",
      " [0.+0.j 1.+0.j 0.+0.j 0.+0.j 0.+0.j 0.+0.j]\n",
      " [0.+0.j 0.+0.j 1.+0.j 0.+0.j 0.+0.j 0.+0.j]\n",
      " [0.+0.j 0.+0.j 0.+0.j 1.+0.j 0.+0.j 0.+0.j]\n",
      " [0.+0.j 0.+0.j 0.+0.j 0.+0.j 1.+0.j 0.+0.j]\n",
      " [0.+0.j 0.+0.j 0.+0.j 0.+0.j 0.+0.j 1.+0.j]]\n",
      "@@@@@@@\n",
      "\n",
      "theta rotation :   2.0932367648322867e-17\n",
      "U before phase rotation\n",
      "[[ 0.9558+0.j      0.0904+0.j      0.0238-0.0173j  0.    +0.j\n",
      "   0.    +0.j     -0.225 +0.1635j]\n",
      " [ 0.    +0.j      0.9516-0.j     -0.0261+0.019j   0.    +0.j\n",
      "   0.    +0.j      0.2474-0.1797j]\n",
      " [ 0.    +0.j     -0.    +0.j      0.9945+0.j      0.    +0.j\n",
      "   0.    +0.j      0.105 +0.j    ]\n",
      " [ 0.    +0.j      0.    +0.j      0.    +0.j      1.    +0.j\n",
      "   0.    +0.j      0.    +0.j    ]\n",
      " [ 0.    +0.j      0.    +0.j      0.    +0.j      0.    +0.j\n",
      "   1.    +0.j      0.    +0.j    ]\n",
      " [ 0.2378+0.1727j -0.2378-0.1727j -0.0955+0.j      0.    +0.j\n",
      "   0.    +0.j      0.9045+0.j    ]]\n",
      "---\n",
      "U after phase rotation\n",
      "[[ 0.9558+0.j      0.0904+0.j      0.0238-0.0173j  0.    +0.j\n",
      "   0.    +0.j     -0.225 +0.1635j]\n",
      " [ 0.    +0.j      0.9516-0.j     -0.0261+0.019j   0.    +0.j\n",
      "   0.    +0.j      0.2474-0.1797j]\n",
      " [ 0.    +0.j     -0.    +0.j      0.9945+0.j      0.    +0.j\n",
      "   0.    +0.j      0.105 +0.j    ]\n",
      " [ 0.    +0.j      0.    +0.j      0.    +0.j      1.    +0.j\n",
      "   0.    +0.j      0.    +0.j    ]\n",
      " [ 0.    +0.j      0.    +0.j      0.    +0.j      0.    +0.j\n",
      "   1.    +0.j      0.    +0.j    ]\n",
      " [ 0.2378+0.1727j -0.2378-0.1727j -0.0955+0.j      0.    +0.j\n",
      "   0.    +0.j      0.9045+0.j    ]]\n",
      "@@@@@@@\n",
      "[[1.+0.j 0.+0.j 0.+0.j 0.+0.j 0.+0.j 0.+0.j]\n",
      " [0.+0.j 1.+0.j 0.+0.j 0.+0.j 0.+0.j 0.+0.j]\n",
      " [0.+0.j 0.+0.j 1.-0.j 0.+0.j 0.+0.j 0.+0.j]\n",
      " [0.+0.j 0.+0.j 0.+0.j 1.+0.j 0.+0.j 0.+0.j]\n",
      " [0.+0.j 0.+0.j 0.+0.j 0.+0.j 1.+0.j 0.+0.j]\n",
      " [0.+0.j 0.+0.j 0.+0.j 0.+0.j 0.+0.j 1.+0.j]]\n",
      "@@@@@@@\n",
      "\n",
      "TOTAL COST:  0.2653479687515528\n"
     ]
    }
   ],
   "source": [
    "decomp_alg, cost_limit = algorithm( Homemade , i_placement )"
   ]
  },
  {
   "cell_type": "code",
   "execution_count": 68,
   "metadata": {},
   "outputs": [
    {
     "name": "stdout",
     "output_type": "stream",
     "text": [
      "valid: 6\n",
      "not_diag: 8\n",
      "dimension is 6\n",
      "checking level\n",
      "-------------------------------------------------------------------------\n",
      " r is 0\n",
      " r2 is 1\n",
      " c is 0\n",
      "theta  : 0.2001406547348498\n",
      "phi  : -0.0\n",
      "number of non-zeros  :15\n",
      "estimated_cost   :0.12477800617720496\n",
      "-------------------------------------------------------------------------\n",
      " LA NEW KEY IS : 1\n",
      "-------------------------------------------------------------------------\n",
      " r is 0\n",
      " r2 is 5\n",
      " c is 0\n",
      "theta  : 0.5994171995371125\n",
      "phi  : 0.6283185307179586\n",
      "number of non-zeros  :15\n"
     ]
    },
    {
     "ename": "NodeNotFound",
     "evalue": "Either source 0 or target 5 is not in G",
     "output_type": "error",
     "traceback": [
      "\u001b[0;31m---------------------------------------------------------------------------\u001b[0m",
      "\u001b[0;31mNodeNotFound\u001b[0m                              Traceback (most recent call last)",
      "\u001b[0;32m/tmp/ipykernel_218764/3421189600.py\u001b[0m in \u001b[0;36m<module>\u001b[0;34m\u001b[0m\n\u001b[1;32m      3\u001b[0m \u001b[0;34m\u001b[0m\u001b[0m\n\u001b[1;32m      4\u001b[0m \u001b[0;34m\u001b[0m\u001b[0m\n\u001b[0;32m----> 5\u001b[0;31m \u001b[0mBFS\u001b[0m\u001b[0;34m(\u001b[0m\u001b[0mTREE\u001b[0m\u001b[0;34m.\u001b[0m\u001b[0mroot\u001b[0m\u001b[0;34m)\u001b[0m\u001b[0;34m\u001b[0m\u001b[0;34m\u001b[0m\u001b[0m\n\u001b[0m\u001b[1;32m      6\u001b[0m \u001b[0;34m\u001b[0m\u001b[0m\n\u001b[1;32m      7\u001b[0m \u001b[0mprint\u001b[0m\u001b[0;34m(\u001b[0m\u001b[0mTREE\u001b[0m\u001b[0;34m.\u001b[0m\u001b[0mprint_tree\u001b[0m\u001b[0;34m(\u001b[0m\u001b[0mTREE\u001b[0m\u001b[0;34m.\u001b[0m\u001b[0mroot\u001b[0m\u001b[0;34m,\u001b[0m\u001b[0;34m\"ZIOBELLO\"\u001b[0m\u001b[0;34m)\u001b[0m\u001b[0;34m)\u001b[0m\u001b[0;34m\u001b[0m\u001b[0;34m\u001b[0m\u001b[0m\n",
      "\u001b[0;32m~/Documents/Compiler/BFS.py\u001b[0m in \u001b[0;36mBFS\u001b[0;34m(current_root, level)\u001b[0m\n\u001b[1;32m    142\u001b[0m \u001b[0;34m\u001b[0m\u001b[0m\n\u001b[1;32m    143\u001b[0m \u001b[0;34m\u001b[0m\u001b[0m\n\u001b[0;32m--> 144\u001b[0;31m                     \u001b[0mestimated_cost\u001b[0m \u001b[0;34m=\u001b[0m \u001b[0mcost_calculator\u001b[0m\u001b[0;34m(\u001b[0m\u001b[0mrotation_involved\u001b[0m\u001b[0;34m,\u001b[0m \u001b[0minitial_placement\u001b[0m\u001b[0;34m,\u001b[0m \u001b[0mnon_zeros\u001b[0m\u001b[0;34m)\u001b[0m\u001b[0;34m\u001b[0m\u001b[0;34m\u001b[0m\u001b[0m\n\u001b[0m\u001b[1;32m    145\u001b[0m                     \u001b[0mprint\u001b[0m\u001b[0;34m(\u001b[0m\u001b[0;34m\"estimated_cost   :\"\u001b[0m\u001b[0;34m+\u001b[0m\u001b[0mstr\u001b[0m\u001b[0;34m(\u001b[0m\u001b[0mestimated_cost\u001b[0m\u001b[0;34m)\u001b[0m\u001b[0;34m)\u001b[0m\u001b[0;34m\u001b[0m\u001b[0;34m\u001b[0m\u001b[0m\n\u001b[1;32m    146\u001b[0m                     \u001b[0mprint\u001b[0m\u001b[0;34m(\u001b[0m\u001b[0;34m\"-------------------------------------------------------------------------\"\u001b[0m\u001b[0;34m)\u001b[0m\u001b[0;34m\u001b[0m\u001b[0;34m\u001b[0m\u001b[0m\n",
      "\u001b[0;32m~/Documents/Compiler/r_utils.py\u001b[0m in \u001b[0;36mcost_calculator\u001b[0;34m(gate, placement, non_zeros)\u001b[0m\n\u001b[1;32m     46\u001b[0m     \u001b[0msource\u001b[0m \u001b[0;34m=\u001b[0m \u001b[0mgate\u001b[0m\u001b[0;34m.\u001b[0m\u001b[0mlev_a\u001b[0m\u001b[0;34m\u001b[0m\u001b[0;34m\u001b[0m\u001b[0m\n\u001b[1;32m     47\u001b[0m     \u001b[0mtarget\u001b[0m \u001b[0;34m=\u001b[0m \u001b[0mgate\u001b[0m\u001b[0;34m.\u001b[0m\u001b[0mlev_b\u001b[0m\u001b[0;34m\u001b[0m\u001b[0;34m\u001b[0m\u001b[0m\n\u001b[0;32m---> 48\u001b[0;31m     \u001b[0mdist\u001b[0m \u001b[0;34m=\u001b[0m \u001b[0mdistance_nodes\u001b[0m\u001b[0;34m(\u001b[0m\u001b[0mplacement\u001b[0m\u001b[0;34m,\u001b[0m \u001b[0msource\u001b[0m\u001b[0;34m,\u001b[0m \u001b[0mtarget\u001b[0m\u001b[0;34m)\u001b[0m\u001b[0;34m\u001b[0m\u001b[0;34m\u001b[0m\u001b[0m\n\u001b[0m\u001b[1;32m     49\u001b[0m \u001b[0;34m\u001b[0m\u001b[0m\n\u001b[1;32m     50\u001b[0m     \u001b[0;32mreturn\u001b[0m \u001b[0;34m(\u001b[0m \u001b[0mgate\u001b[0m\u001b[0;34m.\u001b[0m\u001b[0mcost\u001b[0m\u001b[0;34m(\u001b[0m\u001b[0;34m)\u001b[0m \u001b[0;34m*\u001b[0m \u001b[0mdist\u001b[0m \u001b[0;34m*\u001b[0m \u001b[0mnon_zeros\u001b[0m\u001b[0;34m)\u001b[0m\u001b[0;34m\u001b[0m\u001b[0;34m\u001b[0m\u001b[0m\n",
      "\u001b[0;32m~/Documents/Compiler/placement.py\u001b[0m in \u001b[0;36mdistance_nodes\u001b[0;34m(G, source, target)\u001b[0m\n\u001b[1;32m     12\u001b[0m \u001b[0;34m\u001b[0m\u001b[0m\n\u001b[1;32m     13\u001b[0m \u001b[0;32mdef\u001b[0m \u001b[0mdistance_nodes\u001b[0m\u001b[0;34m(\u001b[0m\u001b[0mG\u001b[0m\u001b[0;34m,\u001b[0m \u001b[0msource\u001b[0m\u001b[0;34m,\u001b[0m \u001b[0mtarget\u001b[0m\u001b[0;34m)\u001b[0m\u001b[0;34m:\u001b[0m\u001b[0;34m\u001b[0m\u001b[0;34m\u001b[0m\u001b[0m\n\u001b[0;32m---> 14\u001b[0;31m     \u001b[0mpath\u001b[0m \u001b[0;34m=\u001b[0m \u001b[0mnx\u001b[0m\u001b[0;34m.\u001b[0m\u001b[0mshortest_path\u001b[0m\u001b[0;34m(\u001b[0m\u001b[0mG\u001b[0m\u001b[0;34m,\u001b[0m \u001b[0msource\u001b[0m\u001b[0;34m,\u001b[0m \u001b[0mtarget\u001b[0m\u001b[0;34m)\u001b[0m\u001b[0;34m\u001b[0m\u001b[0;34m\u001b[0m\u001b[0m\n\u001b[0m\u001b[1;32m     15\u001b[0m     \u001b[0;32mreturn\u001b[0m \u001b[0mlen\u001b[0m\u001b[0;34m(\u001b[0m\u001b[0mpath\u001b[0m\u001b[0;34m)\u001b[0m\u001b[0;34m-\u001b[0m\u001b[0;36m1\u001b[0m\u001b[0;34m\u001b[0m\u001b[0;34m\u001b[0m\u001b[0m\n\u001b[1;32m     16\u001b[0m \u001b[0;34m\u001b[0m\u001b[0m\n",
      "\u001b[0;32m~/Documents/Compiler/compy/lib/python3.8/site-packages/networkx/algorithms/shortest_paths/generic.py\u001b[0m in \u001b[0;36mshortest_path\u001b[0;34m(G, source, target, weight, method)\u001b[0m\n\u001b[1;32m    158\u001b[0m             \u001b[0;31m# Find shortest source-target path.\u001b[0m\u001b[0;34m\u001b[0m\u001b[0;34m\u001b[0m\u001b[0;34m\u001b[0m\u001b[0m\n\u001b[1;32m    159\u001b[0m             \u001b[0;32mif\u001b[0m \u001b[0mmethod\u001b[0m \u001b[0;34m==\u001b[0m \u001b[0;34m\"unweighted\"\u001b[0m\u001b[0;34m:\u001b[0m\u001b[0;34m\u001b[0m\u001b[0;34m\u001b[0m\u001b[0m\n\u001b[0;32m--> 160\u001b[0;31m                 \u001b[0mpaths\u001b[0m \u001b[0;34m=\u001b[0m \u001b[0mnx\u001b[0m\u001b[0;34m.\u001b[0m\u001b[0mbidirectional_shortest_path\u001b[0m\u001b[0;34m(\u001b[0m\u001b[0mG\u001b[0m\u001b[0;34m,\u001b[0m \u001b[0msource\u001b[0m\u001b[0;34m,\u001b[0m \u001b[0mtarget\u001b[0m\u001b[0;34m)\u001b[0m\u001b[0;34m\u001b[0m\u001b[0;34m\u001b[0m\u001b[0m\n\u001b[0m\u001b[1;32m    161\u001b[0m             \u001b[0;32melif\u001b[0m \u001b[0mmethod\u001b[0m \u001b[0;34m==\u001b[0m \u001b[0;34m\"dijkstra\"\u001b[0m\u001b[0;34m:\u001b[0m\u001b[0;34m\u001b[0m\u001b[0;34m\u001b[0m\u001b[0m\n\u001b[1;32m    162\u001b[0m                 \u001b[0m_\u001b[0m\u001b[0;34m,\u001b[0m \u001b[0mpaths\u001b[0m \u001b[0;34m=\u001b[0m \u001b[0mnx\u001b[0m\u001b[0;34m.\u001b[0m\u001b[0mbidirectional_dijkstra\u001b[0m\u001b[0;34m(\u001b[0m\u001b[0mG\u001b[0m\u001b[0;34m,\u001b[0m \u001b[0msource\u001b[0m\u001b[0;34m,\u001b[0m \u001b[0mtarget\u001b[0m\u001b[0;34m,\u001b[0m \u001b[0mweight\u001b[0m\u001b[0;34m)\u001b[0m\u001b[0;34m\u001b[0m\u001b[0;34m\u001b[0m\u001b[0m\n",
      "\u001b[0;32m~/Documents/Compiler/compy/lib/python3.8/site-packages/networkx/algorithms/shortest_paths/unweighted.py\u001b[0m in \u001b[0;36mbidirectional_shortest_path\u001b[0;34m(G, source, target)\u001b[0m\n\u001b[1;32m    219\u001b[0m     \u001b[0;32mif\u001b[0m \u001b[0msource\u001b[0m \u001b[0;32mnot\u001b[0m \u001b[0;32min\u001b[0m \u001b[0mG\u001b[0m \u001b[0;32mor\u001b[0m \u001b[0mtarget\u001b[0m \u001b[0;32mnot\u001b[0m \u001b[0;32min\u001b[0m \u001b[0mG\u001b[0m\u001b[0;34m:\u001b[0m\u001b[0;34m\u001b[0m\u001b[0;34m\u001b[0m\u001b[0m\n\u001b[1;32m    220\u001b[0m         \u001b[0mmsg\u001b[0m \u001b[0;34m=\u001b[0m \u001b[0;34mf\"Either source {source} or target {target} is not in G\"\u001b[0m\u001b[0;34m\u001b[0m\u001b[0;34m\u001b[0m\u001b[0m\n\u001b[0;32m--> 221\u001b[0;31m         \u001b[0;32mraise\u001b[0m \u001b[0mnx\u001b[0m\u001b[0;34m.\u001b[0m\u001b[0mNodeNotFound\u001b[0m\u001b[0;34m(\u001b[0m\u001b[0mmsg\u001b[0m\u001b[0;34m)\u001b[0m\u001b[0;34m\u001b[0m\u001b[0;34m\u001b[0m\u001b[0m\n\u001b[0m\u001b[1;32m    222\u001b[0m \u001b[0;34m\u001b[0m\u001b[0m\n\u001b[1;32m    223\u001b[0m     \u001b[0;31m# call helper to do the real work\u001b[0m\u001b[0;34m\u001b[0m\u001b[0;34m\u001b[0m\u001b[0;34m\u001b[0m\u001b[0m\n",
      "\u001b[0;31mNodeNotFound\u001b[0m: Either source 0 or target 5 is not in G"
     ]
    }
   ],
   "source": [
    "TREE = N_ary_Tree()\n",
    "TREE.add(0, np.identity(dimension ,dtype='complex'), Homemade, 0, cost_limit)\n",
    "\n",
    "\n",
    "BFS(TREE.root)\n",
    "\n",
    "print(TREE.print_tree(TREE.root,\"ZIOBELLO\"))"
   ]
  },
  {
   "cell_type": "code",
   "execution_count": null,
   "metadata": {},
   "outputs": [],
   "source": []
  },
  {
   "cell_type": "code",
   "execution_count": null,
   "metadata": {},
   "outputs": [],
   "source": []
  }
 ],
 "metadata": {
  "kernelspec": {
   "display_name": "compy",
   "language": "python",
   "name": "compy"
  },
  "language_info": {
   "codemirror_mode": {
    "name": "ipython",
    "version": 3
   },
   "file_extension": ".py",
   "mimetype": "text/x-python",
   "name": "python",
   "nbconvert_exporter": "python",
   "pygments_lexer": "ipython3",
   "version": "3.8.10"
  }
 },
 "nbformat": 4,
 "nbformat_minor": 4
}
